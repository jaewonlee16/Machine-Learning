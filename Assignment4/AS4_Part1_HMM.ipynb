{
 "cells": [
  {
   "cell_type": "markdown",
   "metadata": {
    "id": "lDJIV2EVBuFZ"
   },
   "source": [
    "# M2608.001300 기계학습 기초 및 전기정보 응용<br> Assignment #4 Part 1: Hidden Markov Model (HMM)"
   ]
  },
  {
   "cell_type": "markdown",
   "metadata": {
    "id": "YTaYtPr3Nmjj"
   },
   "source": [
    "Copyright (C) Data Science & AI Laboratory, Seoul National University. This material is for educational uses only. Some contents are based on the material provided by other paper/book authors and may be copyrighted by them. Written by Bong-Gyun Kang, May 2023."
   ]
  },
  {
   "cell_type": "markdown",
   "metadata": {
    "id": "OVNbco0DV1-_"
   },
   "source": [
    "**For understanding of this work, please carefully look at given PPT file.**\n",
    "\n",
    "Now, you're going to leave behind your implementations and instead migrate to one of popular deep learning frameworks, **PyTorch**. <br>\n",
    "In this notebook, you will learn how to train a Hidden Markov Model (HMM) for sequential modeling. <br>\n",
    "You need to follow the instructions to **complete 5 TODO sections and explain them if needed.**\n",
    "\n",
    "You will see:\n",
    "- what HMM is and when you might want to use it;\n",
    "- the so-called \"three problems\" of an HMM; and \n",
    "- how to implement HMM in PyTorch.\n",
    "\n",
    "\n",
    "**Note**: certain details are missing or ambiguous on purpose, in order to test your knowledge on the related materials. However, if you really feel that something essential is missing and cannot proceed to the next step, then contact the teaching staff with clear description of your problem.\n",
    "\n",
    "<font color=red>**DO NOT clear the final outputs**</font> so that TAs can grade both your code and results.\n",
    "\n",
    "\n",
    "### Some helpful tutorials and references for assignment #4:\n",
    "- [1] Pytorch official documentation. [[link]](https://pytorch.org/docs/stable/index.html)\n",
    "- [2] Stanford CS231n lectures. [[link]](http://cs231n.stanford.edu/)\n",
    "- [3] https://ratsgo.github.io/machine%20learning/2017/03/18/HMMs/\n",
    "- [4] https://ratsgo.github.io/natural%20language%20processing/2017/03/09/rnnlstm/"
   ]
  },
  {
   "cell_type": "markdown",
   "metadata": {
    "id": "efPPcGy0gP6H"
   },
   "source": [
    "## Problem 1. Implementing Hidden Markov Model\n",
    "\n",
    "A hypothetical scenario\n",
    "------\n",
    "\n",
    "To motivate the use of HMMs, imagine that you have a friend who gets to do a lot of travelling. Every day, this jet-setting friend sends you a selfie from the city they’re in, to make you envious."
   ]
  },
  {
   "cell_type": "markdown",
   "metadata": {
    "id": "Cs3z7pnVib9g"
   },
   "source": [
    "<center>\n",
    "\n",
    "![Diagram of a traveling friend sending selfies](https://github.com/lorenlugosch/pytorch_HMM/blob/master/img/selfies.png?raw=true)\n",
    "</center>\n",
    "\n",
    "\n",
    "\n"
   ]
  },
  {
   "cell_type": "markdown",
   "metadata": {
    "id": "hTPNK3IjirDA"
   },
   "source": [
    "How would you go about guessing which city the friend is in each day, just by looking at the selfies?\n",
    "\n",
    "If the selfie contains a really obvious landmark, like the Eiffel Tower, it will be easy to figure out where the photo was taken. If not, it will be a lot harder to infer the city.\n",
    "\n",
    "But we have a clue to help us: the city the friend is in each day is not totally random. For example, the friend will probably remain in the same city for a few days to sightsee before flying to a new city."
   ]
  },
  {
   "cell_type": "markdown",
   "metadata": {
    "id": "k4g7IG7CBx-Y"
   },
   "source": [
    "## The HMM setup\n",
    "\n",
    "The hypothetical scenario of the friend travelling between cities and sending you selfies can be modeled using an HMM.\n"
   ]
  },
  {
   "cell_type": "markdown",
   "metadata": {
    "id": "NpwgbDTnRzRa"
   },
   "source": [
    "An HMM models a system that is in a particular state at any given time and produces an output that depends on that state. \n",
    "\n",
    "At each timestep or clock tick, the system randomly decides on a new state and jumps into that state. The system then randomly generates an observation. The states are \"hidden\": we can't observe them. (In the cities/selfies analogy, the unknown cities would be the hidden states, and the selfies would be the observations.)\n",
    "\n",
    "Let's denote the sequence of states as $\\mathbf{z} = \\{z_1, z_2, \\dots, z_T \\}$, where each state is one of a finite set of $N$ states, and the sequence of observations as $\\mathbf{x} = \\{x_1, x_2, \\dots, x_T\\}$. The observations could be discrete, like letters, or real-valued, like audio frames."
   ]
  },
  {
   "cell_type": "markdown",
   "metadata": {
    "id": "uV5fAhEQDAcJ"
   },
   "source": [
    "<center>\n",
    "\n",
    "![Diagram of an HMM for three timesteps](https://github.com/lorenlugosch/pytorch_HMM/blob/master/img/hmm.png?raw=true)\n",
    "</center>"
   ]
  },
  {
   "cell_type": "markdown",
   "metadata": {
    "id": "vMPrA6Uv-u-K"
   },
   "source": [
    "An HMM makes two key assumptions:\n",
    "- **Assumption 1:** The state at time $t$ depends *only* on the state at the previous time $t-1$. \n",
    "- **Assumption 2:** The output at time $t$ depends *only* on the state at time $t$.\n",
    "\n",
    "These two assumptions make it possible to efficiently compute certain quantities that we may be interested in."
   ]
  },
  {
   "cell_type": "markdown",
   "metadata": {
    "id": "mRNhSK7LgEIS"
   },
   "source": [
    "## Components of an HMM\n",
    "An HMM has three sets of trainable parameters.\n",
    "  \n"
   ]
  },
  {
   "cell_type": "markdown",
   "metadata": {
    "id": "7Pu3zm77vXwp"
   },
   "source": [
    "- The **transition model** is a square matrix $A$, where $A_{s, s'}$ represents $p(z_t = s|z_{t-1} = s')$, the probability of jumping from state $s'$ to state $s$. \n",
    "\n",
    "- The **emission model** $b_s(x_t)$ tells us $p(x_t|z_t = s)$, the probability of generating $x_t$ when the system is in state $s$. For discrete observations, which we will use in this notebook, the emission model is just a lookup table, with one row for each state, and one column for each observation. For real-valued observations, it is common to use a Gaussian mixture model or neural network to implement the emission model. \n",
    "\n",
    "- The **state priors** tell us $p(z_1 = s)$, the probability of starting in state $s$. We use $\\pi$ to denote the vector of state priors, so $\\pi_s$ is the state prior for state $s$.\n",
    "\n",
    "Let's program an HMM class in PyTorch."
   ]
  },
  {
   "cell_type": "code",
   "execution_count": 7,
   "metadata": {
    "id": "aZbW6Pj0og7K"
   },
   "outputs": [],
   "source": [
    "import torch\n",
    "import numpy as np\n",
    "\n",
    "class HMM(torch.nn.Module):\n",
    "  \"\"\"\n",
    "  Hidden Markov Model with discrete observations.\n",
    "  \"\"\"\n",
    "  def __init__(self, M, N):\n",
    "    super(HMM, self).__init__()\n",
    "    self.M = M # number of possible observations\n",
    "    self.N = N # number of states\n",
    "\n",
    "    # A\n",
    "    self.transition_model = TransitionModel(self.N)\n",
    "\n",
    "    # b(x_t)\n",
    "    self.emission_model = EmissionModel(self.N,self.M)\n",
    "\n",
    "    # pi\n",
    "    self.unnormalized_state_priors = torch.nn.Parameter(torch.randn(self.N))\n",
    "\n",
    "    # use the GPU\n",
    "    self.is_cuda = torch.cuda.is_available()\n",
    "    if self.is_cuda: self.cuda()\n",
    "\n",
    "class TransitionModel(torch.nn.Module):\n",
    "  def __init__(self, N):\n",
    "    super(TransitionModel, self).__init__()\n",
    "    self.N = N\n",
    "    self.unnormalized_transition_matrix = torch.nn.Parameter(torch.randn(N,N))\n",
    "\n",
    "class EmissionModel(torch.nn.Module):\n",
    "  def __init__(self, N, M):\n",
    "    super(EmissionModel, self).__init__()\n",
    "    self.N = N\n",
    "    self.M = M\n",
    "    self.unnormalized_emission_matrix = torch.nn.Parameter(torch.randn(N,M))"
   ]
  },
  {
   "cell_type": "markdown",
   "metadata": {
    "id": "eom3ueYtpXGo"
   },
   "source": [
    "To sample from the HMM, we start by picking a random initial state from the state prior distribution.\n",
    "\n",
    "Then, we sample an output from the emission distribution, sample a transition from the transition distribution, and repeat.\n",
    "\n",
    "(Notice that we pass the unnormalized model parameters through a softmax function to make them into probabilities.)\n"
   ]
  },
  {
   "cell_type": "code",
   "execution_count": 8,
   "metadata": {
    "id": "BpgkwNyVwmyM"
   },
   "outputs": [],
   "source": [
    "def sample(self, T=10):\n",
    "  state_priors = torch.nn.functional.softmax(self.unnormalized_state_priors, dim=0)\n",
    "  transition_matrix = torch.nn.functional.softmax(self.transition_model.unnormalized_transition_matrix, dim=0)\n",
    "  emission_matrix = torch.nn.functional.softmax(self.emission_model.unnormalized_emission_matrix, dim=1)\n",
    "\n",
    "  # sample initial state\n",
    "  z_t = torch.distributions.categorical.Categorical(state_priors).sample().item()\n",
    "  z = []; x = []\n",
    "  z.append(z_t)\n",
    "  for t in range(0,T):\n",
    "    # sample emission\n",
    "    x_t = torch.distributions.categorical.Categorical(emission_matrix[z_t]).sample().item()\n",
    "    x.append(x_t)\n",
    "\n",
    "    # sample transition\n",
    "    z_t = torch.distributions.categorical.Categorical(transition_matrix[:,z_t]).sample().item()\n",
    "    if t < T-1: z.append(z_t)\n",
    "\n",
    "  return x, z\n",
    "\n",
    "# Add the sampling method to our HMM class\n",
    "HMM.sample = sample"
   ]
  },
  {
   "cell_type": "markdown",
   "metadata": {
    "id": "ohsdYScawkRG"
   },
   "source": [
    "Let's try hard-coding an HMM for generating fake words. (We'll also add some helper functions for encoding and decoding strings.)\n",
    "\n",
    "We will assume that the system has one state for generating vowels and one state for generating consonants, and the transition matrix has 0s on the diagonal---in other words, the system cannot stay in the vowel state or the consonant state for more than one timestep; it has to switch.\n",
    "\n",
    "Since we pass the transition matrix through a softmax, to get 0s we set the unnormalized parameter values to $-\\infty$."
   ]
  },
  {
   "cell_type": "code",
   "execution_count": 9,
   "metadata": {
    "id": "eyR7yv_3sBG3"
   },
   "outputs": [
    {
     "name": "stdout",
     "output_type": "stream",
     "text": [
      "State priors: tensor([0.6225, 0.3775])\n",
      "Emission matrix: tensor([[0.0000, 0.3487, 0.0375, 0.0117, 0.0000, 0.0141, 0.0096, 0.0825, 0.0000,\n",
      "         0.0525, 0.0265, 0.0159, 0.0363, 0.0273, 0.0000, 0.0165, 0.0393, 0.0097,\n",
      "         0.0887, 0.0127, 0.0000, 0.0166, 0.0079, 0.0443, 0.0472, 0.0546],\n",
      "        [0.0710, 0.0000, 0.0000, 0.0000, 0.0855, 0.0000, 0.0000, 0.0000, 0.6117,\n",
      "         0.0000, 0.0000, 0.0000, 0.0000, 0.0000, 0.1645, 0.0000, 0.0000, 0.0000,\n",
      "         0.0000, 0.0000, 0.0673, 0.0000, 0.0000, 0.0000, 0.0000, 0.0000]])\n",
      "Transition matrix: tensor([[0., 1.],\n",
      "        [1., 0.]])\n"
     ]
    }
   ],
   "source": [
    "import string\n",
    "alphabet = string.ascii_lowercase\n",
    "\n",
    "def encode(s):\n",
    "  \"\"\"\n",
    "  Convert a string into a list of integers\n",
    "  \"\"\"\n",
    "  x = [alphabet.index(ss) for ss in s]\n",
    "  return x\n",
    "\n",
    "def decode(x):\n",
    "  \"\"\"\n",
    "  Convert list of ints to string\n",
    "  \"\"\"\n",
    "  s = \"\".join([alphabet[xx] for xx in x])\n",
    "  return s\n",
    "\n",
    "# Initialize the model\n",
    "model = HMM(M=len(alphabet), N=2) \n",
    "\n",
    "# Hard-wiring the parameters!\n",
    "# Let state 0 = consonant, state 1 = vowel\n",
    "for p in model.parameters():\n",
    "    p.requires_grad = False # needed to do lines below\n",
    "model.unnormalized_state_priors[0] = 0.    # Let's start with a consonant more frequently\n",
    "model.unnormalized_state_priors[1] = -0.5\n",
    "print(\"State priors:\", torch.nn.functional.softmax(model.unnormalized_state_priors, dim=0))\n",
    "\n",
    "# In state 0, only allow consonants; in state 1, only allow vowels\n",
    "vowel_indices = torch.tensor([alphabet.index(letter) for letter in \"aeiou\"])\n",
    "consonant_indices = torch.tensor([alphabet.index(letter) for letter in \"bcdfghjklmnpqrstvwxyz\"])\n",
    "model.emission_model.unnormalized_emission_matrix[0, vowel_indices] = -np.inf\n",
    "model.emission_model.unnormalized_emission_matrix[1, consonant_indices] = -np.inf \n",
    "print(\"Emission matrix:\", torch.nn.functional.softmax(model.emission_model.unnormalized_emission_matrix, dim=1))\n",
    "\n",
    "# Only allow vowel -> consonant and consonant -> vowel\n",
    "model.transition_model.unnormalized_transition_matrix[0,0] = -np.inf  # consonant -> consonant\n",
    "model.transition_model.unnormalized_transition_matrix[0,1] = 0.       # vowel -> consonant\n",
    "model.transition_model.unnormalized_transition_matrix[1,0] = 0.       # consonant -> vowel\n",
    "model.transition_model.unnormalized_transition_matrix[1,1] = -np.inf  # vowel -> vowel\n",
    "print(\"Transition matrix:\", torch.nn.functional.softmax(model.transition_model.unnormalized_transition_matrix, dim=0))\n",
    "\n"
   ]
  },
  {
   "cell_type": "markdown",
   "metadata": {
    "id": "KFaYq8jDttmi"
   },
   "source": [
    "**TODO 1: Try sampling from our hard-coded model.**\n",
    "\n",
    "\n",
    "Sampled outputs should have the form of: <br>\n",
    "```\n",
    "x: adarituhij\n",
    "z: [1, 0, 1, 0, 1, 0, 1, 0, 1, 0]\n",
    "```\n",
    "\n"
   ]
  },
  {
   "cell_type": "code",
   "execution_count": 10,
   "metadata": {
    "id": "8latFMD7ua0X"
   },
   "outputs": [
    {
     "name": "stdout",
     "output_type": "stream",
     "text": [
      "x: iboqohibib\n",
      "z: [1, 0, 1, 0, 1, 0, 1, 0, 1, 0]\n",
      "x: ibebibinah\n",
      "z: [1, 0, 1, 0, 1, 0, 1, 0, 1, 0]\n",
      "x: iliziximij\n",
      "z: [1, 0, 1, 0, 1, 0, 1, 0, 1, 0]\n"
     ]
    }
   ],
   "source": [
    "# Sample at least 3 pairs of (x, z) outputs\n",
    "##############################################################################\n",
    "#                          IMPLEMENT YOUR CODE                               #\n",
    "##############################################################################\n",
    "for _ in range(3):\n",
    "  sampled_x, sampled_z = model.sample()\n",
    "  print(\"x:\", decode(sampled_x))\n",
    "  print(\"z:\", sampled_z)\n",
    "\n",
    "##############################################################################\n",
    "#                          END OF YOUR CODE                                  #\n",
    "##############################################################################"
   ]
  },
  {
   "cell_type": "markdown",
   "metadata": {
    "id": "hKzlTlfRgZod"
   },
   "source": [
    "## Problem 2. The Three Problems\n",
    "\n",
    "The \"three problems\" that need to be solved before you can effectively use an HMM are:\n",
    "- Problem 1: How do we efficiently compute $p(\\mathbf{x})$?\n",
    "- Problem 2: How do we find the most likely state sequence $\\mathbf{z}$ that could have generated the data? \n",
    "- Problem 3: How do we train the model?\n",
    "\n",
    "In the rest of the notebook, we will see how to solve each problem and implement the solutions in PyTorch."
   ]
  },
  {
   "cell_type": "markdown",
   "metadata": {
    "id": "v_RfIAnmN2RZ"
   },
   "source": [
    "### Problem 2-1. How do we compute $p(\\mathbf{x})$?"
   ]
  },
  {
   "cell_type": "markdown",
   "metadata": {
    "id": "Z3zUUYH0giKV"
   },
   "source": [
    "\n",
    "#### *Why?*\n",
    "Why might we care about computing $p(\\mathbf{x})$? Here's two reasons.\n",
    "* Given two HMMs, $\\theta_1$ and $\\theta_2$, we can compute the likelihood of some data $\\mathbf{x}$ under each model, $p_{\\theta_1}(\\mathbf{x})$ and $p_{\\theta_2}(\\mathbf{x})$, to decide which model is a better fit to the data. \n",
    "\n",
    "  (For example, given an HMM for English speech and an HMM for French speech, we could compute the likelihood given each model, and pick the model with the higher likelihood to infer whether the person is speaking English or French.)\n",
    "* Being able to compute $p(\\mathbf{x})$ gives us a way to train the model, as we will see later.\n",
    "\n",
    "#### *How?*\n",
    "Given that we want $p(\\mathbf{x})$, how do we compute it?\n",
    "\n",
    "We've assumed that the data is generated by visiting some sequence of states $\\mathbf{z}$ and picking an output $x_t$ for each $z_t$ from the emission distribution $p(x_t|z_t)$. So if we knew $\\mathbf{z}$, then the probability of $\\mathbf{x}$ could be computed as follows:\n",
    "\n",
    "$$p(\\mathbf{x}|\\mathbf{z}) = \\prod_{t} p(x_t|z_t)$$\n",
    "\n",
    "However, we don't know $\\mathbf{z}$; it's hidden. But we do know the probability of any given $\\mathbf{z}$, independent of what we observe. So we could get the probability of $\\mathbf{x}$ by summing over the different possibilities for $\\mathbf{z}$, like this:\n",
    "\n",
    "$$p(\\mathbf{x}) = \\sum_{\\mathbf{z}} p(\\mathbf{x}|\\mathbf{z}) p(\\mathbf{z}) = \\sum_{\\mathbf{z}} p(\\mathbf{z}) \\prod_{t} p(x_t|z_t) = \\sum_{\\mathbf{z}} \\prod_{t} p(x_t|z_t) p(z_t|z_{t-1})$$\n",
    "\n",
    "The problem is: if you try to take that sum directly, you will need to compute $N^T$ terms. This is impossible to do for anything but very short sequences. For example, let's say the sequence is of length $T=100$ and there are $N=2$ possible states. Then we would need to check $N^T = 2^{100} \\approx 10^{30}$ different possible state sequences.\n",
    "\n",
    "We need a way to compute $p(\\mathbf{x})$ that doesn't require us to explicitly calculate all $N^T$ terms. For this, we use the forward algorithm."
   ]
  },
  {
   "cell_type": "markdown",
   "metadata": {
    "id": "DrH0YdUAhS6J"
   },
   "source": [
    "________\n",
    "\n",
    "<u><b>The Forward Algorithm</b></u>\n",
    "\n",
    "> for $s=1 \\rightarrow N$:\\\n",
    "> &nbsp;&nbsp;&nbsp;&nbsp;&nbsp;&nbsp;$\\alpha_{s,1} := b_s(x_1) \\cdot \\pi_s$ \n",
    "> \n",
    "> for $t = 2 \\rightarrow T$:\\\n",
    "> &nbsp;&nbsp;&nbsp;&nbsp;&nbsp;&nbsp;for $s = 1 \\rightarrow N$:\\\n",
    "> &nbsp;&nbsp;&nbsp;&nbsp;&nbsp;&nbsp;&nbsp;&nbsp;&nbsp;&nbsp;&nbsp;&nbsp;\n",
    "> $\\alpha_{s,t} := b_s(x_t) \\cdot \\underset{s'}{\\sum} A_{s, s'} \\cdot \\alpha_{s',t-1} $\n",
    "> \n",
    "> $p(\\mathbf{x}) := \\underset{s}{\\sum} \\alpha_{s,T}$\\\n",
    "> return $p(\\mathbf{x})$\n",
    "________\n"
   ]
  },
  {
   "cell_type": "markdown",
   "metadata": {
    "id": "bAdpwRiMn8Vn"
   },
   "source": [
    "The forward algorithm is much faster than enumerating all $N^T$ possible state sequences: it requires only $O(N^2T)$ operations to run, since each step is mostly multiplying the vector of forward variables by the transition matrix. (And very often we can reduce that complexity even further, if the transition matrix is sparse.)\n",
    "\n",
    "There is one practical problem with the forward algorithm as presented above: it is prone to underflow due to multiplying a long chain of small numbers, since probabilities are always between 0 and 1. Instead, let's do everything in the log domain. In the log domain, a multiplication becomes a sum, and a sum becomes a ${\\text{logsumexp}}$.\n",
    "\n",
    "Let $x \\in \\mathbb{R}^n$, ${\\text{logsumexp}} (x)$ is defined as:\n",
    "\n",
    "$${\\text{logsumexp}} (x) = \\log (\\sum_{i} \\exp (x_i)).$$\n",
    "\n",
    "Numerically, ${\\text{logsumexp}}$ is similar to ${\\max}$: in fact, it’s sometimes called the “smooth maximum” function. For example:\n",
    "\n",
    "$$\\max ([1, 2, 3]) = 3 $$\n",
    "$${\\text{logsumexp}} ([1, 2, 3]) = 3.4076$$"
   ]
  },
  {
   "cell_type": "markdown",
   "metadata": {
    "id": "FZ8VsLFxA3iT"
   },
   "source": [
    "________\n",
    "\n",
    "<u><b>The Forward Algorithm (Log Domain)</b></u>\n",
    "\n",
    "> for $s=1 \\rightarrow N$:\\\n",
    "> &nbsp;&nbsp;&nbsp;&nbsp;&nbsp;&nbsp;$\\text{log }\\alpha_{s,1} := \\text{log }b_s(x_1) + \\text{log }\\pi_s$ \n",
    "> \n",
    "> for $t = 2 \\rightarrow T$:\\\n",
    "> &nbsp;&nbsp;&nbsp;&nbsp;&nbsp;&nbsp;for $s = 1 \\rightarrow N$:\\\n",
    "> &nbsp;&nbsp;&nbsp;&nbsp;&nbsp;&nbsp;&nbsp;&nbsp;&nbsp;&nbsp;&nbsp;&nbsp;\n",
    "> $\\text{log }\\alpha_{s,t} := \\text{log }b_s(x_t) +  \\underset{s'}{\\text{logsumexp}} \\left( \\text{log }A_{s, s'} + \\text{log }\\alpha_{s',t-1} \\right)$\n",
    "> \n",
    "> $\\text{log }p(\\mathbf{x}) := \\underset{s}{\\text{logsumexp}} \\left( \\text{log }\\alpha_{s,T} \\right)$\\\n",
    "> return $\\text{log }p(\\mathbf{x})$\n",
    "________"
   ]
  },
  {
   "cell_type": "markdown",
   "metadata": {
    "id": "g55ik6ZCEiJU"
   },
   "source": [
    "**TODO 2**: Now that we have a numerically stable version of the forward algorithm, let's implement it in PyTorch. "
   ]
  },
  {
   "cell_type": "code",
   "execution_count": 11,
   "metadata": {
    "id": "3CMdK1EfE1SJ"
   },
   "outputs": [],
   "source": [
    "def HMM_forward(self, x, T):\n",
    "  \"\"\"\n",
    "  x : IntTensor of shape (batch size, T_max)\n",
    "  T : IntTensor of shape (batch size)\n",
    "\n",
    "  Compute log p(x) for each example in the batch.\n",
    "  T = length of each example\n",
    "  \"\"\"\n",
    "  ##############################################################################\n",
    "  #                          IMPLEMENT YOUR CODE                               #\n",
    "  ##############################################################################\n",
    "  if self.is_cuda:\n",
    "        x = x.cuda()\n",
    "        T = T.cuda()\n",
    "\n",
    "  batch_size = x.size(0)\n",
    "  T_max = x.size(1)\n",
    "  log_state_priors = torch.nn.functional.log_softmax(self.unnormalized_state_priors, dim=0)\n",
    "  log_alpha = torch.zeros(batch_size, T_max, self.N, device=x.device)\n",
    "\n",
    "  log_alpha[:, 0, :] = self.emission_model(x[:, 0]) + log_state_priors\n",
    "  for t in range(1, T_max):\n",
    "      prev_log_alpha = log_alpha[:, t-1, :].unsqueeze(2)  # Shape: (batch_size, N, 1)\n",
    "      log_transition_probs = self.transition_model(prev_log_alpha.transpose(1, 2))  # Shape: (batch_size, 1, N)\n",
    "      log_alpha[:, t, :] = self.emission_model(x[:, t]) + log_transition_probs.squeeze(1)\n",
    "\n",
    "  log_sums = log_alpha.logsumexp(dim=2)\n",
    "  log_probs = torch.gather(log_sums, 1, (T - 1).view(-1, 1))\n",
    "    \n",
    "\n",
    "  ##############################################################################\n",
    "  #                          END OF YOUR CODE                                  #\n",
    "  ##############################################################################\n",
    "  return log_probs\n",
    "\n",
    "def emission_model_forward(self, x_t):\n",
    "  ##############################################################################\n",
    "  #                          IMPLEMENT YOUR CODE                               #\n",
    "  ##############################################################################\n",
    "  log_emission_probs = torch.nn.functional.log_softmax(self.unnormalized_emission_matrix, dim=1)\n",
    "  out = torch.index_select(log_emission_probs, 1, x_t).transpose(0, 1)\n",
    "\n",
    "  ##############################################################################\n",
    "  #                          END OF YOUR CODE                                  #\n",
    "  ##############################################################################\n",
    "  return out\n",
    "\n",
    "def transition_model_forward(self, log_alpha):\n",
    "  \"\"\"\n",
    "  log_alpha : Tensor of shape (batch size, N)\n",
    "  Multiply previous timestep's alphas by transition matrix (in log domain)\n",
    "  \"\"\"\n",
    "  ##############################################################################\n",
    "  #                          IMPLEMENT YOUR CODE                               #\n",
    "  ##############################################################################\n",
    "  log_trans_probs = torch.nn.functional.log_softmax(self.unnormalized_transition_matrix, dim=0)\n",
    "\n",
    "  # Matrix multiplication in the log domain\n",
    "  out = log_domain_matmul(log_trans_probs, log_alpha.transpose(0, 1)).transpose(0, 1)\n",
    "  \n",
    "  ##############################################################################\n",
    "  #                          END OF YOUR CODE                                  #\n",
    "  ##############################################################################\n",
    "  return out\n",
    "\n",
    "def log_domain_matmul(log_A, log_B):\n",
    "\t\"\"\"\n",
    "\tlog_A : m x n\n",
    "\tlog_B : n x p\n",
    "\toutput : m x p matrix\n",
    "\n",
    "\tNormally, a matrix multiplication\n",
    "\tcomputes out_{i,j} = sum_k A_{i,k} x B_{k,j}\n",
    "\n",
    "\tA log domain matrix multiplication\n",
    "\tcomputes out_{i,j} = logsumexp_k log_A_{i,k} + log_B_{k,j}\n",
    "\t\"\"\"\n",
    "\tm = log_A.shape[0]\n",
    "\tn = log_A.shape[1]\n",
    "\tp = log_B.shape[1]\n",
    "\n",
    "\t# log_A_expanded = torch.stack([log_A] * p, dim=2)\n",
    "\t# log_B_expanded = torch.stack([log_B] * m, dim=0)\n",
    "    # fix for PyTorch > 1.5 by egaznep on Github:\n",
    "\tlog_A_expanded = torch.reshape(log_A, (m,n,1))\n",
    "\tlog_B_expanded = torch.reshape(log_B, (1,n,p))\n",
    "\n",
    "\telementwise_sum = log_A_expanded + log_B_expanded\n",
    "\tout = torch.logsumexp(elementwise_sum, dim=1)\n",
    "\n",
    "\treturn out\n",
    "\n",
    "TransitionModel.forward = transition_model_forward\n",
    "EmissionModel.forward = emission_model_forward\n",
    "HMM.forward = HMM_forward"
   ]
  },
  {
   "cell_type": "markdown",
   "metadata": {
    "id": "y-fNnZfqGb1m"
   },
   "source": [
    "Try running the forward algorithm on our vowels/consonants model from before:"
   ]
  },
  {
   "cell_type": "code",
   "execution_count": 12,
   "metadata": {
    "id": "8rMAmf-UGhbw"
   },
   "outputs": [
    {
     "name": "stdout",
     "output_type": "stream",
     "text": [
      "tensor([[-10.7698]])\n",
      "tensor([[-inf],\n",
      "        [-inf]])\n"
     ]
    }
   ],
   "source": [
    "x = torch.stack( [torch.tensor(encode(\"cat\"))] )\n",
    "T = torch.tensor([3])\n",
    "print(model.forward(x, T))\n",
    "\n",
    "x = torch.stack( [torch.tensor(encode(\"aba\")), torch.tensor(encode(\"abb\"))] )\n",
    "T = torch.tensor([3,3])\n",
    "print(model.forward(x, T))"
   ]
  },
  {
   "cell_type": "markdown",
   "metadata": {
    "id": "95TB2gvNHuLn"
   },
   "source": [
    "When using the vowel <-> consonant HMM from above, notice that the forward algorithm returns $-\\infty$ for $\\mathbf{x} = ``\\text{abb\"}$. That's because our transition matrix says the probability of vowel -> vowel and consonant -> consonant is 0, so the probability of $``\\text{abb\"}$ happening is 0, and thus the log probability is $-\\infty$."
   ]
  },
  {
   "cell_type": "markdown",
   "metadata": {
    "id": "qBCrFobsEM8X"
   },
   "source": [
    "#### *Side note: deriving the forward algorithm*\n",
    "\n",
    "If you're interested in understanding how the forward algorithm actually computes $p(\\mathbf{x})$, read this section; if not, skip to the next part on \"Problem 2\" (finding the most likely state sequence)."
   ]
  },
  {
   "cell_type": "markdown",
   "metadata": {
    "id": "CpHWWKcxhjkx"
   },
   "source": [
    "\n",
    "\n",
    "To derive the forward algorithm, start by deriving the forward variable:\n",
    "\n",
    "$\n",
    "\\begin{align} \n",
    "    \\alpha_{s,t} &= p(x_1, x_2, \\dots, x_t, z_t=s) \\\\\n",
    "     &= p(x_t | x_1, x_2, \\dots, x_{t-1}, z_t = s) \\cdot p(x_1, x_2, \\dots, x_{t-1}, z_t = s)  \\\\ \n",
    "    &= p(x_t | z_t = s) \\cdot p(x_1, x_2, \\dots, x_{t-1}, z_t = s) \\\\\n",
    "    &= p(x_t | z_t = s) \\cdot \\left( \\sum_{s'} p(x_1, x_2, \\dots, x_{t-1}, z_{t-1}=s', z_t = s) \\right)\\\\\n",
    "    &= p(x_t | z_t = s) \\cdot \\left( \\sum_{s'} p(z_t = s | x_1, x_2, \\dots, x_{t-1}, z_{t-1}=s') \\cdot p(x_1, x_2, \\dots, x_{t-1}, z_{t-1}=s') \\right)\\\\\n",
    "    &= \\underbrace{p(x_t | z_t = s)}_{\\text{emission model}} \\cdot \\left( \\sum_{s'} \\underbrace{p(z_t = s | z_{t-1}=s')}_{\\text{transition model}} \\cdot \\underbrace{p(x_1, x_2, \\dots, x_{t-1}, z_{t-1}=s')}_{\\text{forward variable for previous timestep}} \\right)\\\\\n",
    "    &= b_s(x_t) \\cdot \\left( \\sum_{s'} A_{s, s'} \\cdot \\alpha_{s',t-1} \\right)\n",
    "\\end{align}\n",
    "$\n",
    "\n",
    "I'll explain how to get to each line of this equation from the previous line. \n",
    "\n",
    "Line 1 is the definition of the forward variable $\\alpha_{s,t}$.\n",
    "\n",
    "Line 2 is the chain rule ($p(A,B) = p(A|B) \\cdot p(B)$, where $A$ is $x_t$ and $B$ is all the other variables).\n",
    "\n",
    "In Line 3, we apply Assumption 2: the probability of observation $x_t$ depends only on the current state $z_t$.\n",
    "\n",
    "In Line 4, we marginalize over all the possible states in the previous timestep $t-1$.\n",
    "\n",
    "In Line 5, we apply the chain rule again.\n",
    "\n",
    "In Line 6, we apply Assumption 1: the current state depends only on the previous state.\n",
    "\n",
    "In Line 7, we substitute in the emission probability, the transition probability, and the forward variable for the previous timestep, to get the complete recursion."
   ]
  },
  {
   "cell_type": "markdown",
   "metadata": {
    "id": "kh1ovNjWDbIA"
   },
   "source": [
    "The formula above can be used for $t = 2 \\rightarrow T$. At $t=1$, there is no previous state, so instead of the transition matrix $A$, we use the state priors $\\pi$, which tell us the probability of starting in each state. Thus for $t=1$, the forward variables are computed as follows:\n",
    "\n",
    "$$\\begin{align} \n",
    "\\alpha_{s,1} &= p(x_1, z_1=s) \\\\\n",
    "  &= p(x_1 | z_1 = s) \\cdot p(z_1 = s)  \\\\ \n",
    "&= b_s(x_1) \\cdot \\pi_s\n",
    "\\end{align}$$"
   ]
  },
  {
   "cell_type": "markdown",
   "metadata": {
    "id": "RRzSqkRkEWKX"
   },
   "source": [
    "Finally, to compute $p(\\mathbf{x}) = p(x_1, x_2, \\dots, x_T)$, we marginalize over $\\alpha_{s,T}$, the forward variables computed in the last timestep:\n",
    "\n",
    "$$\\begin{align*} \n",
    "p(\\mathbf{x}) &= \\sum_{s} p(x_1, x_2, \\dots, x_T, z_T = s) \\\\ \n",
    "&= \\sum_{s} \\alpha_{s,T}\n",
    "\\end{align*}$$"
   ]
  },
  {
   "cell_type": "markdown",
   "metadata": {
    "id": "qLBU8Iu7I5Tb"
   },
   "source": [
    "You can get from this formulation to the log domain formulation by taking the log of the forward variable, and using these identities:\n",
    "- $\\text{log }(a \\cdot b) = \\text{log }a + \\text{log }b$\n",
    "- $\\text{log }(a + b) = \\text{log }(e^{\\text{log }a} + e^{\\text{log }b}) = \\text{logsumexp}(\\text{log }a, \\text{log }b)$"
   ]
  },
  {
   "cell_type": "markdown",
   "metadata": {
    "id": "bxivzF8hgpiW"
   },
   "source": [
    "### Problem 2-2. How do we compute $\\underset{\\mathbf{z}}{\\text{argmax }} p(\\mathbf{z}|\\mathbf{x})$?"
   ]
  },
  {
   "cell_type": "markdown",
   "metadata": {
    "id": "c1Kv2yyiN7SX"
   },
   "source": [
    "Given an observation sequence $\\mathbf{x}$, we may want to find the most likely sequence of states that could have generated $\\mathbf{x}$. (Given the sequence of selfies, we want to infer what cities the friend visited.) In other words, we want $\\underset{\\mathbf{z}}{\\text{argmax }} p(\\mathbf{z}|\\mathbf{x})$.\n",
    "\n",
    "We can use Bayes' rule to rewrite this expression:\n",
    "$$\\begin{align*} \n",
    "    \\underset{\\mathbf{z}}{\\text{argmax }} p(\\mathbf{z}|\\mathbf{x}) &= \\underset{\\mathbf{z}}{\\text{argmax }} \\frac{p(\\mathbf{x}|\\mathbf{z}) p(\\mathbf{z})}{p(\\mathbf{x})} \\\\ \n",
    "    &= \\underset{\\mathbf{z}}{\\text{argmax }} p(\\mathbf{x}|\\mathbf{z}) p(\\mathbf{z})\n",
    "\\end{align*}$$\n",
    "\n",
    "Hmm! That last expression, $\\underset{\\mathbf{z}}{\\text{argmax }} p(\\mathbf{x}|\\mathbf{z}) p(\\mathbf{z})$, looks suspiciously similar to the intractable expression we encountered before introducing the forward algorithm, $\\underset{\\mathbf{z}}{\\sum} p(\\mathbf{x}|\\mathbf{z}) p(\\mathbf{z})$.\n",
    "\n",
    "And indeed, just as the intractable *sum* over all $\\mathbf{z}$ can be implemented efficiently using the forward algorithm, so too this intractable *argmax* can be implemented efficiently using a similar divide-and-conquer algorithm: the legendary Viterbi algorithm!"
   ]
  },
  {
   "cell_type": "markdown",
   "metadata": {
    "id": "niKZEX5xWeWR"
   },
   "source": [
    "________\n",
    "\n",
    "<u><b>The Viterbi Algorithm</b></u>\n",
    "\n",
    "> for $s=1 \\rightarrow N$:\\\n",
    "> &nbsp;&nbsp;&nbsp;&nbsp;&nbsp;&nbsp;$\\delta_{s,1} := b_s(x_1) \\cdot \\pi_s$\\\n",
    "> &nbsp;&nbsp;&nbsp;&nbsp;&nbsp;&nbsp;$\\psi_{s,1} := 0$\n",
    ">\n",
    "> for $t = 2 \\rightarrow T$:\\\n",
    "> &nbsp;&nbsp;&nbsp;&nbsp;&nbsp;&nbsp;for $s = 1 \\rightarrow N$:\\\n",
    "> &nbsp;&nbsp;&nbsp;&nbsp;&nbsp;&nbsp;&nbsp;&nbsp;&nbsp;&nbsp;&nbsp;&nbsp;$\\delta_{s,t} := b_s(x_t) \\cdot \\left( \\underset{s'}{\\text{max }} A_{s, s'} \\cdot \\delta_{s',t-1} \\right)$\\\n",
    "&nbsp;&nbsp;&nbsp;&nbsp;&nbsp;&nbsp;&nbsp;&nbsp;&nbsp;&nbsp;&nbsp;&nbsp;$\\psi_{s,t} := \\underset{s'}{\\text{argmax }} A_{s, s'} \\cdot \\delta_{s',t-1}$\n",
    "> \n",
    "> $z_T^* := \\underset{s}{\\text{argmax }} \\delta_{s,T}$\\\n",
    "> for $t = T-1 \\rightarrow 1$:\\\n",
    "&nbsp;&nbsp;&nbsp;&nbsp;&nbsp;&nbsp;$z_{t}^* := \\psi_{z_{t+1}^*,t+1}$\n",
    "> \n",
    "> $\\mathbf{z}^* := \\{z_{1}^*, \\dots, z_{T}^* \\}$\\\n",
    "return $\\mathbf{z}^*$\n",
    "________"
   ]
  },
  {
   "cell_type": "markdown",
   "metadata": {
    "id": "UcHVTCucZV6K"
   },
   "source": [
    "The Viterbi algorithm looks somewhat gnarlier than the forward algorithm, but it is essentially the same algorithm, with two tweaks: 1) instead of taking the sum over previous states, we take the max; and 2) we record the argmax of the previous states in a table, and loop back over this table at the end to get $\\mathbf{z}^*$, the most likely state sequence. (And like the forward algorithm, we should run the Viterbi algorithm in the log domain for better numerical stability.) "
   ]
  },
  {
   "cell_type": "markdown",
   "metadata": {
    "id": "NlN7IY_JZ5A-"
   },
   "source": [
    "**TODO 3**: Let's add the Viterbi algorithm to our PyTorch model:"
   ]
  },
  {
   "cell_type": "code",
   "execution_count": 13,
   "metadata": {
    "id": "qeDG8DVmZ-P0"
   },
   "outputs": [],
   "source": [
    "def viterbi(self, x, T):\n",
    "    \"\"\"\n",
    "    x : IntTensor of shape (batch size, T_max)\n",
    "    T : IntTensor of shape (batch size)\n",
    "    Find argmax_z log p(x|z) for each (x) in the batch.\n",
    "    \"\"\"\n",
    "    ##############################################################################\n",
    "    #                          IMPLEMENT YOUR CODE                               #\n",
    "    ##############################################################################\n",
    "    if self.is_cuda:\n",
    "        x = x.cuda()\n",
    "        T = T.cuda()\n",
    "\n",
    "    batch_size = x.shape[0]; T_max = x.shape[1]\n",
    "    log_state_priors = torch.nn.functional.log_softmax(self.unnormalized_state_priors, dim=0)\n",
    "    log_delta = torch.zeros(batch_size, T_max, self.N, device=x.device, dtype=torch.float32)\n",
    "    psi = torch.zeros(batch_size, T_max, self.N, device=x.device, dtype=torch.long)\n",
    "    if self.is_cuda:\n",
    "        log_delta = log_delta.cuda()\n",
    "        psi = psi.cuda()\n",
    "\n",
    "    log_delta[:, 0, :] = self.emission_model(x[:,0]) + log_state_priors\n",
    "    for t in range(1, T_max):\n",
    "        max_val, argmax_val = self.transition_model.maxmul(log_delta[:, t-1, :])\n",
    "        log_delta[:, t, :] = self.emission_model(x[:,t]) + max_val\n",
    "        psi[:, t, :] = argmax_val\n",
    "\n",
    "    # Get the log probability of the best path\n",
    "    log_max = log_delta.max(dim=2)[0]\n",
    "    best_path_scores = torch.gather(log_max, 1, T.view(-1,1) - 1)\n",
    "\n",
    "    # Reconstruct the best path for each sequence\n",
    "    z_star = []\n",
    "    for i in range(batch_size):\n",
    "        z_star_i = [log_delta[i, T[i] - 1, :].argmax(dim=0).item()]\n",
    "        for t in range(T[i] - 1, 0, -1):\n",
    "            z_t = psi[i, t, z_star_i[0]].item()\n",
    "            z_star_i.insert(0, z_t)\n",
    "\n",
    "        z_star.append(z_star_i)\n",
    "  \n",
    "    ##############################################################################\n",
    "    #                          END OF YOUR CODE                                  #\n",
    "    ##############################################################################\n",
    "    return z_star, best_path_scores # return both the best path and its log probability\n",
    "\n",
    "def transition_model_maxmul(self, log_alpha):\n",
    "  log_transition_matrix = torch.nn.functional.log_softmax(self.unnormalized_transition_matrix, dim=0)\n",
    "\n",
    "  out1, out2 = maxmul(log_transition_matrix, log_alpha.transpose(0,1))\n",
    "  return out1.transpose(0,1), out2.transpose(0,1)\n",
    "\n",
    "def maxmul(log_A, log_B):\n",
    "\t\"\"\"\n",
    "\tlog_A : m x n\n",
    "\tlog_B : n x p\n",
    "\toutput : m x p matrix\n",
    "\n",
    "\tSimilar to the log domain matrix multiplication,\n",
    "\tthis computes out_{i,j} = max_k log_A_{i,k} + log_B_{k,j}\n",
    "\t\"\"\"\n",
    "\tm = log_A.shape[0]\n",
    "\tn = log_A.shape[1]\n",
    "\tp = log_B.shape[1]\n",
    "\n",
    "\tlog_A_expanded = torch.stack([log_A] * p, dim=2)\n",
    "\tlog_B_expanded = torch.stack([log_B] * m, dim=0)\n",
    "\n",
    "\telementwise_sum = log_A_expanded + log_B_expanded\n",
    "\tout1,out2 = torch.max(elementwise_sum, dim=1)\n",
    "\n",
    "\treturn out1,out2\n",
    "\n",
    "TransitionModel.maxmul = transition_model_maxmul\n",
    "HMM.viterbi = viterbi"
   ]
  },
  {
   "cell_type": "markdown",
   "metadata": {
    "id": "uTGOaeXbaWie"
   },
   "source": [
    "Try running Viterbi on an input sequence, given the vowel/consonant HMM:"
   ]
  },
  {
   "cell_type": "code",
   "execution_count": 14,
   "metadata": {
    "id": "zeOTbaIMc23d"
   },
   "outputs": [
    {
     "name": "stdout",
     "output_type": "stream",
     "text": [
      "([[1, 0, 1], [1, 0, 0]], tensor([[-7.3167],\n",
      "        [   -inf]]))\n"
     ]
    }
   ],
   "source": [
    "x = torch.stack( [torch.tensor(encode(\"aba\")), torch.tensor(encode(\"abb\"))] )\n",
    "T = torch.tensor([3,3])\n",
    "print(model.viterbi(x, T))"
   ]
  },
  {
   "cell_type": "markdown",
   "metadata": {
    "id": "fKr8YlafdzBx"
   },
   "source": [
    "For $\\mathbf{x} = ``\\text{aba\"}$, the Viterbi algorithm returns $\\mathbf{z}^* = \\{1,0,1\\}$. This corresponds to \"vowel, consonant, vowel\" according to the way we defined the states above, which is correct for this input sequence. Yay!\n",
    "\n",
    "For $\\mathbf{x} = ``\\text{abb\"}$, the Viterbi algorithm still returns a $\\mathbf{z}^*$, but we know this is gibberish because \"vowel, consonant, consonant\" is impossible under this HMM, and indeed the log probability of this path is $-\\infty$."
   ]
  },
  {
   "cell_type": "markdown",
   "metadata": {
    "id": "nCWw0_WienO_"
   },
   "source": [
    "### Problem 2-3. Comparison: Forward vs. Viterbi\n",
    "\n",
    "1. **TODO 4**: Compare the \"forward score\" (the log probability of all possible paths, returned by the forward algorithm) with the \"Viterbi score\" (the log probability of the maximum likelihood path, returned by the Viterbi algorithm). You can print out model's outputs. And please explain the result below."
   ]
  },
  {
   "cell_type": "code",
   "execution_count": 15,
   "metadata": {
    "id": "L9fBOHvdeqWC"
   },
   "outputs": [
    {
     "name": "stdout",
     "output_type": "stream",
     "text": [
      "tensor([[-inf],\n",
      "        [-inf]])\n",
      "tensor([[-7.3167],\n",
      "        [   -inf]])\n"
     ]
    }
   ],
   "source": [
    "##############################################################################\n",
    "#                          IMPLEMENT YOUR CODE                               #\n",
    "##############################################################################\n",
    "print(model.forward(x, T))\n",
    "print(model.viterbi(x, T)[1])\n",
    "\n",
    "##############################################################################\n",
    "#                          END OF YOUR CODE                                  #\n",
    "##############################################################################"
   ]
  },
  {
   "cell_type": "markdown",
   "metadata": {
    "id": "1MZhZFyNX0go"
   },
   "source": [
    "\n",
    "2. **Explanation for TODO 4**:<br>\n",
    "write your answer here.\n",
    "\n",
    "The \"forward score\" (the log probability of all possible paths, as determined by the forward algorithm) and the \"Viterbi score\" (the log probability of the most probable path, as determined by the Viterbi algorithm) are identical in this specific scenario. This occurs because there is only one feasible path through the HMM, making the probability of the most likely path equal to the total probability of all paths. Typically, however, the forward score and Viterbi score will be relatively close to each other. This is due to a characteristic of the logsumexp function, which approximates the maximum value: logsumexp(x) ≈ max(x).\n",
    "\n"
   ]
  },
  {
   "cell_type": "markdown",
   "metadata": {
    "id": "SvFtiWhzgy0V"
   },
   "source": [
    "### Problem 2-4. How do we train the model?\n",
    "\n",
    "\n",
    "\n"
   ]
  },
  {
   "cell_type": "markdown",
   "metadata": {
    "id": "r3JaykRalSBZ"
   },
   "source": [
    "Earlier, we hard-coded an HMM to have certain behavior. What we would like to do instead is have the HMM learn to model the data on its own. And while it is possible to use supervised learning with an HMM (by hard-coding the emission model or the transition model) so that the states have a particular interpretation, the really cool thing about HMMs is that they are naturally unsupervised learners, so they can learn to use their different states to represent different patterns in the data, without the programmer needing to indicate what each state means."
   ]
  },
  {
   "cell_type": "markdown",
   "metadata": {
    "id": "8K471fT4N-PR"
   },
   "source": [
    "Like many machine learning models, an HMM can be trained using maximum likelihood estimation, i.e.:\n",
    "\n",
    "$$\\theta^* = \\underset{\\theta}{\\text{argmin }} -\\sum_{\\mathbf{x}^i}\\text{log }p_{\\theta}(\\mathbf{x}^i)$$\n",
    "\n",
    "where $\\mathbf{x}^1, \\mathbf{x}^2, \\dots$ are training examples. \n",
    "\n",
    "The standard method for doing this is the Expectation-Maximization (EM) algorithm, which for HMMs is also called the \"Baum-Welch\" algorithm. In EM training, we alternate between an \"E-step\", where we estimate the values of the latent variables, and an \"M-step\", where the model parameters are updated given the estimated latent variables. (Think $k$-means, where you guess which cluster each data point belongs to, then reestimate where the clusters are, and repeat.) The EM algorithm has some nice properties: it is guaranteed at each step to decrease the loss function, and the E-step and M-step may have an exact closed form solution, in which case no pesky learning rates are required.\n",
    "\n",
    "But because the HMM forward algorithm is differentiable with respect to all the model parameters, we can also just take advantage of automatic differentiation methods in libraries like PyTorch and try to minimize $-\\text{log }p_{\\theta}(\\mathbf{x})$ directly, by backpropagating through the forward algorithm and running stochastic gradient descent. That means we don't need to write any additional HMM code to implement training: `loss.backward()` is all you need."
   ]
  },
  {
   "cell_type": "markdown",
   "metadata": {
    "id": "aVh0-369qZDC"
   },
   "source": [
    "Here we will implement SGD training for an HMM in PyTorch. First, some helper classes:"
   ]
  },
  {
   "cell_type": "code",
   "execution_count": 16,
   "metadata": {
    "id": "KqiFobGHwdzc"
   },
   "outputs": [],
   "source": [
    "import torch.utils.data\n",
    "from collections import Counter\n",
    "from sklearn.model_selection import train_test_split\n",
    "\n",
    "class TextDataset(torch.utils.data.Dataset):\n",
    "  def __init__(self, lines):\n",
    "    self.lines = lines # list of strings\n",
    "    collate = Collate() # function for generating a minibatch from strings\n",
    "    self.loader = torch.utils.data.DataLoader(self, batch_size=1024, num_workers=1, shuffle=True, collate_fn=collate)\n",
    "\n",
    "  def __len__(self):\n",
    "    return len(self.lines)\n",
    "\n",
    "  def __getitem__(self, idx):\n",
    "    line = self.lines[idx].lstrip(\" \").rstrip(\"\\n\").rstrip(\" \").rstrip(\"\\n\")\n",
    "    return line\n",
    "\n",
    "class Collate:\n",
    "  def __init__(self):\n",
    "    pass\n",
    "\n",
    "  def __call__(self, batch):\n",
    "    \"\"\"\n",
    "    Returns a minibatch of strings, padded to have the same length.\n",
    "    \"\"\"\n",
    "    x = []\n",
    "    batch_size = len(batch)\n",
    "    for index in range(batch_size):\n",
    "      x_ = batch[index]\n",
    "\n",
    "      # convert letters to integers\n",
    "      x.append(encode(x_))\n",
    "\n",
    "    # pad all sequences with 0 to have same length\n",
    "    x_lengths = [len(x_) for x_ in x]\n",
    "    T = max(x_lengths)\n",
    "    for index in range(batch_size):\n",
    "      x[index] += [0] * (T - len(x[index]))\n",
    "      x[index] = torch.tensor(x[index])\n",
    "\n",
    "    # stack into single tensor\n",
    "    x = torch.stack(x)\n",
    "    x_lengths = torch.tensor(x_lengths)\n",
    "    return (x,x_lengths)"
   ]
  },
  {
   "cell_type": "markdown",
   "metadata": {
    "id": "YpDpwnPnAEA9"
   },
   "source": [
    "Let's load some training/testing data. By default, this will use the unix \"words\" file, but you could also use your own text file."
   ]
  },
  {
   "cell_type": "markdown",
   "metadata": {
    "id": "LsZDnW2OHT-T"
   },
   "source": [
    "Execute the following 2 cells if you are using Google Colab, otherwise just skip. Rename the statement after `cd` with your current directory (e.g. `cd /content/drive/your/current/directory/`). Refer to Assignment1's data loading sceme if you have troubles."
   ]
  },
  {
   "cell_type": "code",
   "execution_count": null,
   "metadata": {
    "id": "u75jPWLbG4m_"
   },
   "outputs": [],
   "source": [
    "# Execute this and below cell if you are using Google Colab, otherwise just skip.\n",
    "from google.colab import drive\n",
    "drive.mount('/content/drive')"
   ]
  },
  {
   "cell_type": "code",
   "execution_count": null,
   "metadata": {
    "id": "30eW3H2yG6Ht"
   },
   "outputs": [],
   "source": [
    "cd /content/drive/MyDrive/"
   ]
  },
  {
   "cell_type": "code",
   "execution_count": 17,
   "metadata": {
    "id": "52NqFHg8ANsB"
   },
   "outputs": [],
   "source": [
    "filename = \"hmm_training.txt\"\n",
    "\n",
    "with open(filename, \"r\") as f:\n",
    "  lines = f.readlines() # each line of lines will have one word\n",
    "\n",
    "alphabet = list(Counter((\"\".join(lines))).keys())\n",
    "train_lines, valid_lines = train_test_split(lines, test_size=0.1, random_state=42)\n",
    "train_dataset = TextDataset(train_lines)\n",
    "valid_dataset = TextDataset(valid_lines)\n",
    "\n",
    "M = len(alphabet)"
   ]
  },
  {
   "cell_type": "markdown",
   "metadata": {
    "id": "H0AqmyrK7IUn"
   },
   "source": [
    "We will use a Trainer class for training and testing the model:\n",
    "\n"
   ]
  },
  {
   "cell_type": "code",
   "execution_count": 18,
   "metadata": {
    "id": "iypy_neX9cpq"
   },
   "outputs": [],
   "source": [
    "from tqdm import tqdm # for displaying progress bar\n",
    "\n",
    "class Trainer:\n",
    "  def __init__(self, model, lr):\n",
    "    self.model = model\n",
    "    self.lr = lr\n",
    "    self.optimizer = torch.optim.Adam(model.parameters(), lr=self.lr, weight_decay=0.00001)\n",
    "  \n",
    "  def train(self, dataset):\n",
    "    train_loss = 0\n",
    "    num_samples = 0\n",
    "    self.model.train()\n",
    "    print_interval = 50\n",
    "    for idx, batch in enumerate(tqdm(dataset.loader)):\n",
    "      x,T = batch\n",
    "      batch_size = len(x)\n",
    "      num_samples += batch_size\n",
    "      log_probs = self.model(x,T)\n",
    "      loss = -log_probs.mean()\n",
    "      self.optimizer.zero_grad()\n",
    "      loss.backward()\n",
    "      self.optimizer.step()\n",
    "      train_loss += loss.cpu().data.numpy().item() * batch_size\n",
    "      if idx % print_interval == 0:\n",
    "        print(\"loss:\", loss.item())\n",
    "        for _ in range(5):\n",
    "          sampled_x, sampled_z = self.model.sample()\n",
    "          print(decode(sampled_x))\n",
    "          print(sampled_z)\n",
    "    train_loss /= num_samples\n",
    "    return train_loss\n",
    "\n",
    "  def test(self, dataset):\n",
    "    test_loss = 0\n",
    "    num_samples = 0\n",
    "    self.model.eval()\n",
    "    print_interval = 50\n",
    "    for idx, batch in enumerate(tqdm(dataset.loader)):\n",
    "      x,T = batch\n",
    "      batch_size = len(x)\n",
    "      num_samples += batch_size\n",
    "      log_probs = self.model(x,T)\n",
    "      loss = -log_probs.mean()\n",
    "      test_loss += loss.cpu().data.numpy().item() * batch_size\n",
    "      if idx % print_interval == 0:\n",
    "        print(\"loss:\", loss.item())\n",
    "        sampled_x, sampled_z = self.model.sample()\n",
    "        print(decode(sampled_x))\n",
    "        print(sampled_z)\n",
    "    test_loss /= num_samples\n",
    "    return test_loss"
   ]
  },
  {
   "cell_type": "markdown",
   "metadata": {
    "id": "mUR8qbHm9dMg"
   },
   "source": [
    "Finally, initialize the model and run the main training loop. Every 50 batches, the code will produce a few samples from the model. Over time, these samples should look more and more realistic."
   ]
  },
  {
   "cell_type": "code",
   "execution_count": 19,
   "metadata": {
    "id": "1-NGIK1Q9g2C"
   },
   "outputs": [
    {
     "name": "stdout",
     "output_type": "stream",
     "text": [
      "========= Epoch 1 of 10 =========\n"
     ]
    },
    {
     "name": "stderr",
     "output_type": "stream",
     "text": [
      "  0%|▍                                                                                  | 1/208 [00:00<01:29,  2.31it/s]"
     ]
    },
    {
     "name": "stdout",
     "output_type": "stream",
     "text": [
      "loss: 38.601009368896484\n",
      "pTtYjKhEEB\n",
      "[45, 28, 63, 2, 48, 43, 14, 58, 10, 6]\n",
      "NDxYJR-xqK\n",
      "[18, 29, 20, 17, 61, 22, 37, 11, 14, 43]\n",
      "plCTNiYIfZ\n",
      "[34, 45, 36, 28, 54, 52, 26, 28, 41, 63]\n",
      "LfouvTsvIi\n",
      "[55, 41, 29, 3, 39, 25, 36, 38, 27, 54]\n",
      "KNBQhgGHLf\n",
      "[42, 54, 51, 9, 47, 50, 58, 50, 51, 9]\n"
     ]
    },
    {
     "name": "stderr",
     "output_type": "stream",
     "text": [
      " 25%|████████████████████                                                              | 51/208 [00:12<00:40,  3.84it/s]"
     ]
    },
    {
     "name": "stdout",
     "output_type": "stream",
     "text": [
      "loss: 33.22240447998047\n",
      "lMAcrpYTle\n",
      "[36, 41, 0, 58, 61, 45, 4, 4, 14, 25]\n",
      "Ntad\n",
      "alius\n",
      "[38, 18, 33, 35, 40, 7, 56, 3, 36, 28]\n",
      "cffaulAfgj\n",
      "[6, 18, 34, 54, 20, 60, 48, 29, 30, 39]\n",
      "d\n",
      "FrlEeTup\n",
      "[1, 7, 29, 50, 27, 42, 28, 28, 42, 33]\n",
      "EqDxcsDsga\n",
      "[39, 9, 52, 7, 42, 28, 17, 34, 7, 38]\n"
     ]
    },
    {
     "name": "stderr",
     "output_type": "stream",
     "text": [
      " 49%|███████████████████████████████████████▎                                         | 101/208 [00:25<00:26,  4.08it/s]"
     ]
    },
    {
     "name": "stdout",
     "output_type": "stream",
     "text": [
      "loss: 29.905393600463867\n",
      "sfKpAhlorA\n",
      "[52, 0, 48, 12, 46, 32, 17, 52, 46, 38]\n",
      "CmadZccVlw\n",
      "[42, 19, 43, 36, 47, 0, 45, 49, 14, 15]\n",
      "niAnleQnPr\n",
      "[12, 53, 46, 32, 17, 55, 12, 45, 5, 53]\n",
      "dwoAarCskK\n",
      "[12, 45, 50, 46, 55, 56, 46, 55, 19, 43]\n",
      "usoAtainoc\n",
      "[9, 7, 38, 0, 15, 38, 14, 10, 43, 1]\n"
     ]
    },
    {
     "name": "stderr",
     "output_type": "stream",
     "text": [
      " 73%|██████████████████████████████████████████████████████████▊                      | 151/208 [00:37<00:14,  3.89it/s]"
     ]
    },
    {
     "name": "stdout",
     "output_type": "stream",
     "text": [
      "loss: 28.54243278503418\n",
      "aeeecaalit\n",
      "[38, 0, 46, 43, 12, 55, 39, 29, 7, 45]\n",
      "oreahAcacA\n",
      "[52, 50, 50, 52, 6, 0, 47, 38, 12, 45]\n",
      "iranMsaoce\n",
      "[28, 50, 43, 21, 55, 9, 43, 38, 42, 53]\n",
      "VefaaatenW\n",
      "[9, 63, 47, 50, 55, 38, 15, 55, 56, 16]\n",
      "JJdryrseon\n",
      "[18, 17, 40, 14, 41, 49, 49, 15, 46, 21]\n"
     ]
    },
    {
     "name": "stderr",
     "output_type": "stream",
     "text": [
      " 97%|██████████████████████████████████████████████████████████████████████████████▎  | 201/208 [00:50<00:01,  3.97it/s]"
     ]
    },
    {
     "name": "stdout",
     "output_type": "stream",
     "text": [
      "loss: 26.863733291625977\n",
      "tnteeenalR\n",
      "[23, 22, 30, 49, 32, 46, 21, 38, 56, 59]\n",
      "aaABlevsAs\n",
      "[12, 50, 56, 31, 1, 43, 55, 47, 50, 46]\n",
      "sQyqcgcAey\n",
      "[28, 10, 6, 24, 11, 53, 41, 6, 49, 36]\n",
      "peu-etrher\n",
      "[52, 56, 57, 50, 49, 50, 15, 59, 56, 35]\n",
      "WnZazuoeae\n",
      "[47, 35, 38, 52, 7, 48, 1, 43, 55, 22]\n"
     ]
    },
    {
     "name": "stderr",
     "output_type": "stream",
     "text": [
      "100%|█████████████████████████████████████████████████████████████████████████████████| 208/208 [00:52<00:00,  3.97it/s]\n",
      "  4%|███▌                                                                                | 1/24 [00:00<00:11,  1.95it/s]"
     ]
    },
    {
     "name": "stdout",
     "output_type": "stream",
     "text": [
      "loss: 27.49990463256836\n",
      "ctrdstASiL\n",
      "[12, 59, 53, 41, 49, 43, 38, 32, 30, 35]\n"
     ]
    },
    {
     "name": "stderr",
     "output_type": "stream",
     "text": [
      "100%|███████████████████████████████████████████████████████████████████████████████████| 24/24 [00:03<00:00,  7.87it/s]\n"
     ]
    },
    {
     "name": "stdout",
     "output_type": "stream",
     "text": [
      "========= Results: epoch 1 of 10 =========\n",
      "train loss: 30.94| valid loss: 27.10\n",
      "\n",
      "========= Epoch 2 of 10 =========\n"
     ]
    },
    {
     "name": "stderr",
     "output_type": "stream",
     "text": [
      "  0%|▍                                                                                  | 1/208 [00:00<01:55,  1.80it/s]"
     ]
    },
    {
     "name": "stdout",
     "output_type": "stream",
     "text": [
      "loss: 26.92595100402832\n",
      "insohyAkiV\n",
      "[52, 21, 46, 35, 61, 30, 42, 54, 9, 32]\n",
      "moeasraWna\n",
      "[19, 9, 35, 0, 42, 53, 31, 49, 14, 15]\n",
      "annaLcaeie\n",
      "[18, 14, 21, 38, 56, 5, 45, 49, 23, 46]\n",
      "VnHnKnAetz\n",
      "[29, 43, 15, 14, 25, 7, 56, 15, 44, 13]\n",
      "cotjeemtia\n",
      "[12, 58, 62, 54, 46, 55, 60, 62, 58, 10]\n"
     ]
    },
    {
     "name": "stderr",
     "output_type": "stream",
     "text": [
      " 25%|████████████████████                                                              | 51/208 [00:13<00:40,  3.90it/s]"
     ]
    },
    {
     "name": "stdout",
     "output_type": "stream",
     "text": [
      "loss: 25.902708053588867\n",
      "ceeaepAAte\n",
      "[12, 45, 49, 15, 35, 59, 39, 7, 52, 35]\n",
      "sehetameAw\n",
      "[28, 46, 13, 43, 21, 38, 62, 43, 61, 7]\n",
      "srXqesnArb\n",
      "[28, 10, 32, 14, 55, 11, 2, 47, 10, 42]\n",
      "psetneoAaA\n",
      "[12, 9, 15, 6, 27, 43, 56, 47, 44, 0]\n",
      "niilmlrteA\n",
      "[21, 55, 39, 42, 13, 20, 49, 50, 45, 49]\n"
     ]
    },
    {
     "name": "stderr",
     "output_type": "stream",
     "text": [
      " 37%|██████████████████████████████▎                                                   | 77/208 [00:20<00:35,  3.73it/s]\n"
     ]
    },
    {
     "ename": "KeyboardInterrupt",
     "evalue": "",
     "output_type": "error",
     "traceback": [
      "\u001b[0;31m---------------------------------------------------------------------------\u001b[0m",
      "\u001b[0;31mKeyboardInterrupt\u001b[0m                         Traceback (most recent call last)",
      "Cell \u001b[0;32mIn[19], line 10\u001b[0m\n\u001b[1;32m      8\u001b[0m \u001b[38;5;28;01mfor\u001b[39;00m epoch \u001b[38;5;129;01min\u001b[39;00m \u001b[38;5;28mrange\u001b[39m(num_epochs):\n\u001b[1;32m      9\u001b[0m     \u001b[38;5;28mprint\u001b[39m(\u001b[38;5;124m\"\u001b[39m\u001b[38;5;124m========= Epoch \u001b[39m\u001b[38;5;132;01m%d\u001b[39;00m\u001b[38;5;124m of \u001b[39m\u001b[38;5;132;01m%d\u001b[39;00m\u001b[38;5;124m =========\u001b[39m\u001b[38;5;124m\"\u001b[39m \u001b[38;5;241m%\u001b[39m (epoch\u001b[38;5;241m+\u001b[39m\u001b[38;5;241m1\u001b[39m, num_epochs))\n\u001b[0;32m---> 10\u001b[0m     train_loss \u001b[38;5;241m=\u001b[39m trainer\u001b[38;5;241m.\u001b[39mtrain(train_dataset)\n\u001b[1;32m     11\u001b[0m     valid_loss \u001b[38;5;241m=\u001b[39m trainer\u001b[38;5;241m.\u001b[39mtest(valid_dataset)\n\u001b[1;32m     13\u001b[0m     \u001b[38;5;28mprint\u001b[39m(\u001b[38;5;124m\"\u001b[39m\u001b[38;5;124m========= Results: epoch \u001b[39m\u001b[38;5;132;01m%d\u001b[39;00m\u001b[38;5;124m of \u001b[39m\u001b[38;5;132;01m%d\u001b[39;00m\u001b[38;5;124m =========\u001b[39m\u001b[38;5;124m\"\u001b[39m \u001b[38;5;241m%\u001b[39m (epoch\u001b[38;5;241m+\u001b[39m\u001b[38;5;241m1\u001b[39m, num_epochs))\n",
      "Cell \u001b[0;32mIn[18], line 18\u001b[0m, in \u001b[0;36mTrainer.train\u001b[0;34m(self, dataset)\u001b[0m\n\u001b[1;32m     16\u001b[0m batch_size \u001b[38;5;241m=\u001b[39m \u001b[38;5;28mlen\u001b[39m(x)\n\u001b[1;32m     17\u001b[0m num_samples \u001b[38;5;241m+\u001b[39m\u001b[38;5;241m=\u001b[39m batch_size\n\u001b[0;32m---> 18\u001b[0m log_probs \u001b[38;5;241m=\u001b[39m \u001b[38;5;28mself\u001b[39m\u001b[38;5;241m.\u001b[39mmodel(x,T)\n\u001b[1;32m     19\u001b[0m loss \u001b[38;5;241m=\u001b[39m \u001b[38;5;241m-\u001b[39mlog_probs\u001b[38;5;241m.\u001b[39mmean()\n\u001b[1;32m     20\u001b[0m \u001b[38;5;28mself\u001b[39m\u001b[38;5;241m.\u001b[39moptimizer\u001b[38;5;241m.\u001b[39mzero_grad()\n",
      "File \u001b[0;32m~/anaconda3/envs/torch_tutorial/lib/python3.11/site-packages/torch/nn/modules/module.py:1501\u001b[0m, in \u001b[0;36mModule._call_impl\u001b[0;34m(self, *args, **kwargs)\u001b[0m\n\u001b[1;32m   1496\u001b[0m \u001b[38;5;66;03m# If we don't have any hooks, we want to skip the rest of the logic in\u001b[39;00m\n\u001b[1;32m   1497\u001b[0m \u001b[38;5;66;03m# this function, and just call forward.\u001b[39;00m\n\u001b[1;32m   1498\u001b[0m \u001b[38;5;28;01mif\u001b[39;00m \u001b[38;5;129;01mnot\u001b[39;00m (\u001b[38;5;28mself\u001b[39m\u001b[38;5;241m.\u001b[39m_backward_hooks \u001b[38;5;129;01mor\u001b[39;00m \u001b[38;5;28mself\u001b[39m\u001b[38;5;241m.\u001b[39m_backward_pre_hooks \u001b[38;5;129;01mor\u001b[39;00m \u001b[38;5;28mself\u001b[39m\u001b[38;5;241m.\u001b[39m_forward_hooks \u001b[38;5;129;01mor\u001b[39;00m \u001b[38;5;28mself\u001b[39m\u001b[38;5;241m.\u001b[39m_forward_pre_hooks\n\u001b[1;32m   1499\u001b[0m         \u001b[38;5;129;01mor\u001b[39;00m _global_backward_pre_hooks \u001b[38;5;129;01mor\u001b[39;00m _global_backward_hooks\n\u001b[1;32m   1500\u001b[0m         \u001b[38;5;129;01mor\u001b[39;00m _global_forward_hooks \u001b[38;5;129;01mor\u001b[39;00m _global_forward_pre_hooks):\n\u001b[0;32m-> 1501\u001b[0m     \u001b[38;5;28;01mreturn\u001b[39;00m forward_call(\u001b[38;5;241m*\u001b[39margs, \u001b[38;5;241m*\u001b[39m\u001b[38;5;241m*\u001b[39mkwargs)\n\u001b[1;32m   1502\u001b[0m \u001b[38;5;66;03m# Do not call functions when jit is used\u001b[39;00m\n\u001b[1;32m   1503\u001b[0m full_backward_hooks, non_full_backward_hooks \u001b[38;5;241m=\u001b[39m [], []\n",
      "Cell \u001b[0;32mIn[11], line 24\u001b[0m, in \u001b[0;36mHMM_forward\u001b[0;34m(self, x, T)\u001b[0m\n\u001b[1;32m     22\u001b[0m \u001b[38;5;28;01mfor\u001b[39;00m t \u001b[38;5;129;01min\u001b[39;00m \u001b[38;5;28mrange\u001b[39m(\u001b[38;5;241m1\u001b[39m, T_max):\n\u001b[1;32m     23\u001b[0m     prev_log_alpha \u001b[38;5;241m=\u001b[39m log_alpha[:, t\u001b[38;5;241m-\u001b[39m\u001b[38;5;241m1\u001b[39m, :]\u001b[38;5;241m.\u001b[39munsqueeze(\u001b[38;5;241m2\u001b[39m)  \u001b[38;5;66;03m# Shape: (batch_size, N, 1)\u001b[39;00m\n\u001b[0;32m---> 24\u001b[0m     log_transition_probs \u001b[38;5;241m=\u001b[39m \u001b[38;5;28mself\u001b[39m\u001b[38;5;241m.\u001b[39mtransition_model(prev_log_alpha\u001b[38;5;241m.\u001b[39mtranspose(\u001b[38;5;241m1\u001b[39m, \u001b[38;5;241m2\u001b[39m))  \u001b[38;5;66;03m# Shape: (batch_size, 1, N)\u001b[39;00m\n\u001b[1;32m     25\u001b[0m     log_alpha[:, t, :] \u001b[38;5;241m=\u001b[39m \u001b[38;5;28mself\u001b[39m\u001b[38;5;241m.\u001b[39memission_model(x[:, t]) \u001b[38;5;241m+\u001b[39m log_transition_probs\u001b[38;5;241m.\u001b[39msqueeze(\u001b[38;5;241m1\u001b[39m)\n\u001b[1;32m     27\u001b[0m log_sums \u001b[38;5;241m=\u001b[39m log_alpha\u001b[38;5;241m.\u001b[39mlogsumexp(dim\u001b[38;5;241m=\u001b[39m\u001b[38;5;241m2\u001b[39m)\n",
      "File \u001b[0;32m~/anaconda3/envs/torch_tutorial/lib/python3.11/site-packages/torch/nn/modules/module.py:1501\u001b[0m, in \u001b[0;36mModule._call_impl\u001b[0;34m(self, *args, **kwargs)\u001b[0m\n\u001b[1;32m   1496\u001b[0m \u001b[38;5;66;03m# If we don't have any hooks, we want to skip the rest of the logic in\u001b[39;00m\n\u001b[1;32m   1497\u001b[0m \u001b[38;5;66;03m# this function, and just call forward.\u001b[39;00m\n\u001b[1;32m   1498\u001b[0m \u001b[38;5;28;01mif\u001b[39;00m \u001b[38;5;129;01mnot\u001b[39;00m (\u001b[38;5;28mself\u001b[39m\u001b[38;5;241m.\u001b[39m_backward_hooks \u001b[38;5;129;01mor\u001b[39;00m \u001b[38;5;28mself\u001b[39m\u001b[38;5;241m.\u001b[39m_backward_pre_hooks \u001b[38;5;129;01mor\u001b[39;00m \u001b[38;5;28mself\u001b[39m\u001b[38;5;241m.\u001b[39m_forward_hooks \u001b[38;5;129;01mor\u001b[39;00m \u001b[38;5;28mself\u001b[39m\u001b[38;5;241m.\u001b[39m_forward_pre_hooks\n\u001b[1;32m   1499\u001b[0m         \u001b[38;5;129;01mor\u001b[39;00m _global_backward_pre_hooks \u001b[38;5;129;01mor\u001b[39;00m _global_backward_hooks\n\u001b[1;32m   1500\u001b[0m         \u001b[38;5;129;01mor\u001b[39;00m _global_forward_hooks \u001b[38;5;129;01mor\u001b[39;00m _global_forward_pre_hooks):\n\u001b[0;32m-> 1501\u001b[0m     \u001b[38;5;28;01mreturn\u001b[39;00m forward_call(\u001b[38;5;241m*\u001b[39margs, \u001b[38;5;241m*\u001b[39m\u001b[38;5;241m*\u001b[39mkwargs)\n\u001b[1;32m   1502\u001b[0m \u001b[38;5;66;03m# Do not call functions when jit is used\u001b[39;00m\n\u001b[1;32m   1503\u001b[0m full_backward_hooks, non_full_backward_hooks \u001b[38;5;241m=\u001b[39m [], []\n",
      "Cell \u001b[0;32mIn[11], line 59\u001b[0m, in \u001b[0;36mtransition_model_forward\u001b[0;34m(self, log_alpha)\u001b[0m\n\u001b[1;32m     56\u001b[0m log_trans_probs \u001b[38;5;241m=\u001b[39m torch\u001b[38;5;241m.\u001b[39mnn\u001b[38;5;241m.\u001b[39mfunctional\u001b[38;5;241m.\u001b[39mlog_softmax(\u001b[38;5;28mself\u001b[39m\u001b[38;5;241m.\u001b[39munnormalized_transition_matrix, dim\u001b[38;5;241m=\u001b[39m\u001b[38;5;241m0\u001b[39m)\n\u001b[1;32m     58\u001b[0m \u001b[38;5;66;03m# Matrix multiplication in the log domain\u001b[39;00m\n\u001b[0;32m---> 59\u001b[0m out \u001b[38;5;241m=\u001b[39m log_domain_matmul(log_trans_probs, log_alpha\u001b[38;5;241m.\u001b[39mtranspose(\u001b[38;5;241m0\u001b[39m, \u001b[38;5;241m1\u001b[39m))\u001b[38;5;241m.\u001b[39mtranspose(\u001b[38;5;241m0\u001b[39m, \u001b[38;5;241m1\u001b[39m)\n\u001b[1;32m     61\u001b[0m \u001b[38;5;66;03m##############################################################################\u001b[39;00m\n\u001b[1;32m     62\u001b[0m \u001b[38;5;66;03m#                          END OF YOUR CODE                                  #\u001b[39;00m\n\u001b[1;32m     63\u001b[0m \u001b[38;5;66;03m##############################################################################\u001b[39;00m\n\u001b[1;32m     64\u001b[0m \u001b[38;5;28;01mreturn\u001b[39;00m out\n",
      "Cell \u001b[0;32mIn[11], line 89\u001b[0m, in \u001b[0;36mlog_domain_matmul\u001b[0;34m(log_A, log_B)\u001b[0m\n\u001b[1;32m     86\u001b[0m log_B_expanded \u001b[38;5;241m=\u001b[39m torch\u001b[38;5;241m.\u001b[39mreshape(log_B, (\u001b[38;5;241m1\u001b[39m,n,p))\n\u001b[1;32m     88\u001b[0m elementwise_sum \u001b[38;5;241m=\u001b[39m log_A_expanded \u001b[38;5;241m+\u001b[39m log_B_expanded\n\u001b[0;32m---> 89\u001b[0m out \u001b[38;5;241m=\u001b[39m torch\u001b[38;5;241m.\u001b[39mlogsumexp(elementwise_sum, dim\u001b[38;5;241m=\u001b[39m\u001b[38;5;241m1\u001b[39m)\n\u001b[1;32m     91\u001b[0m \u001b[38;5;28;01mreturn\u001b[39;00m out\n",
      "\u001b[0;31mKeyboardInterrupt\u001b[0m: "
     ]
    }
   ],
   "source": [
    "# Initialize model\n",
    "model = HMM(N=64, M=M)\n",
    "\n",
    "# Train the model\n",
    "num_epochs = 10\n",
    "trainer = Trainer(model, lr=0.01)\n",
    "\n",
    "for epoch in range(num_epochs):\n",
    "    print(\"========= Epoch %d of %d =========\" % (epoch+1, num_epochs))\n",
    "    train_loss = trainer.train(train_dataset)\n",
    "    valid_loss = trainer.test(valid_dataset)\n",
    "\n",
    "    print(\"========= Results: epoch %d of %d =========\" % (epoch+1, num_epochs))\n",
    "    print(\"train loss: %.2f| valid loss: %.2f\\n\" % (train_loss, valid_loss))\n",
    "\n",
    "torch.save(model.state_dict(), 'HMM.pth')"
   ]
  },
  {
   "cell_type": "markdown",
   "metadata": {
    "id": "zymBj9QrDHRM"
   },
   "source": [
    "**TODO 5**: Try to decode some different sequences (e.g. proper words, misspelled words) with the Viterbi algorithm and give an explanation about the results."
   ]
  },
  {
   "cell_type": "code",
   "execution_count": null,
   "metadata": {
    "id": "auBibYUTtIom"
   },
   "outputs": [],
   "source": [
    "##############################################################################\n",
    "#                          IMPLEMENT YOUR CODE                               #\n",
    "##############################################################################\n",
    "\n",
    "x = torch.tensor(encode(\"quack\")).unsqueeze(0)\n",
    "T = torch.tensor([5])\n",
    "print(model.viterbi(x,T))\n",
    "\n",
    "x = torch.tensor(encode(\"quick\")).unsqueeze(0)\n",
    "T = torch.tensor([5])\n",
    "print(model.viterbi(x,T))\n",
    "\n",
    "x = torch.tensor(encode(\"qurck\")).unsqueeze(0)\n",
    "T = torch.tensor([5])\n",
    "print(model.viterbi(x,T)) # should have lower probability---in English only vowels follow \"qu\"\n",
    "\n",
    "x = torch.tensor(encode(\"qiick\")).unsqueeze(0)\n",
    "T = torch.tensor([5])\n",
    "print(model.viterbi(x,T)) # should have lower probability---in English only \"u\" follows \"q\"\n",
    "\n",
    "##############################################################################\n",
    "#                          END OF YOUR CODE                                  #\n",
    "##############################################################################"
   ]
  },
  {
   "cell_type": "markdown",
   "metadata": {
    "id": "XGkke5yMKMYe"
   },
   "source": [
    "**Explanation for TODO 5:** <br>\n",
    "write your answer here."
   ]
  }
 ],
 "metadata": {
  "accelerator": "GPU",
  "colab": {
   "provenance": []
  },
  "kernelspec": {
   "display_name": "Python 3 (ipykernel)",
   "language": "python",
   "name": "python3"
  },
  "language_info": {
   "codemirror_mode": {
    "name": "ipython",
    "version": 3
   },
   "file_extension": ".py",
   "mimetype": "text/x-python",
   "name": "python",
   "nbconvert_exporter": "python",
   "pygments_lexer": "ipython3",
   "version": "3.11.4"
  }
 },
 "nbformat": 4,
 "nbformat_minor": 1
}
