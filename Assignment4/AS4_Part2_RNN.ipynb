{
 "cells": [
  {
   "cell_type": "markdown",
   "metadata": {
    "id": "uCj2f3K0AopU"
   },
   "source": [
    "# M2608.001300 기계학습 기초 및 전기정보 응용<br> Assignment #4 Part 2: Recurrent Neural Networks (RNNs)"
   ]
  },
  {
   "cell_type": "markdown",
   "metadata": {
    "id": "r3h2lj90AwRM"
   },
   "source": [
    "Copyright (C) Data Science & AI Laboratory, Seoul National University. This material is for educational uses only. Some contents are based on the material provided by other paper/book authors and may be copyrighted by them. Written by Bong-Gyun Kang, May 2023."
   ]
  },
  {
   "cell_type": "markdown",
   "metadata": {
    "id": "Q4FBjC8BAzzG"
   },
   "source": [
    "**For understanding of this work, please carefully look at given PPT file.**\n",
    "\n",
    "Now, you're going to leave behind your implementations and instead migrate to one of popular deep learning frameworks, **PyTorch**. <br>\n",
    "\n",
    "In this notebook, you will learn how to train a Recurrent Neural Network (RNN) for sequential modeling. Specifically, you will build a character-level RNN to generate names from different languages. <br> \n",
    "You need to follow the instructions to **complete 6 TODO sections and explain them if needed.**\n",
    "\n",
    "You will see:\n",
    "- how to implement a character-level RNN in PyTorch;\n",
    "- train the network; and\n",
    "- sampling sequences from the network.\n",
    "\n",
    "\n",
    "**Note**: certain details are missing or ambiguous on purpose, in order to test your knowledge on the related materials. However, if you really feel that something essential is missing and cannot proceed to the next step, then contact the teaching staff with clear description of your problem.\n",
    "\n",
    "<font color=red>**DO NOT clear the final outputs**</font> so that TAs can grade both your code and results. \n",
    "\n",
    "\n",
    "### Some helpful tutorials and references for assignment #4:\n",
    "- [1] Pytorch official documentation. [[link]](https://pytorch.org/docs/stable/index.html)\n",
    "- [2] Stanford CS231n lectures. [[link]](http://cs231n.stanford.edu/)\n",
    "- [3] https://ratsgo.github.io/machine%20learning/2017/03/18/HMMs/\n",
    "- [4] https://ratsgo.github.io/natural%20language%20processing/2017/03/09/rnnlstm/"
   ]
  },
  {
   "cell_type": "code",
   "execution_count": 1,
   "metadata": {
    "id": "Za9xcdsGyUJG"
   },
   "outputs": [],
   "source": [
    "%matplotlib inline"
   ]
  },
  {
   "cell_type": "markdown",
   "metadata": {
    "id": "ssxKD8OqyUJM"
   },
   "source": [
    "Preparing the Data\n",
    "==================\n",
    "\n",
    "Note:\n",
    "   Extract the ``rnn_data.zip`` to the current directory.\n",
    "\n",
    "The dataset has a bunch of plain text files ``data/names/[Language].txt`` with a\n",
    "name per line. We split lines into an array, convert Unicode to ASCII,\n",
    "and end up with a dictionary ``{language: [names ...]}``.\n",
    "\n",
    "\n"
   ]
  },
  {
   "cell_type": "markdown",
   "metadata": {
    "id": "L7VPv_zWQ41M"
   },
   "source": [
    "Execute the following 2 cells if you are using Google Colab, otherwise just skip. Rename the statement after `cd` with your current directory (e.g. `cd /content/drive/your/current/directory/`). Refer to Assignment1's data loading sceme if you have troubles."
   ]
  },
  {
   "cell_type": "code",
   "execution_count": null,
   "metadata": {
    "id": "eP0jN4H9yYSa"
   },
   "outputs": [],
   "source": [
    "# Execute this and below cell if you are using Google Colab, otherwise just skip.\n",
    "from google.colab import drive\n",
    "drive.mount('/content/drive')"
   ]
  },
  {
   "cell_type": "code",
   "execution_count": null,
   "metadata": {
    "id": "5M57T-ghyfT8"
   },
   "outputs": [],
   "source": [
    "cd /content/drive/MyDrive/"
   ]
  },
  {
   "cell_type": "code",
   "execution_count": 1,
   "metadata": {
    "id": "hVTrHs23yUJN"
   },
   "outputs": [
    {
     "name": "stdout",
     "output_type": "stream",
     "text": [
      "# categories: 18 ['Chinese', 'Greek', 'French', 'Italian', 'Russian', 'Portuguese', 'Polish', 'Japanese', 'Korean', 'Czech', 'Spanish', 'Irish', 'Vietnamese', 'Arabic', 'German', 'English', 'Scottish', 'Dutch']\n",
      "O'Neal\n"
     ]
    }
   ],
   "source": [
    "from __future__ import unicode_literals, print_function, division\n",
    "from io import open\n",
    "import glob\n",
    "import os\n",
    "import unicodedata\n",
    "import string\n",
    "\n",
    "all_letters = string.ascii_letters + \" .,;'-\"\n",
    "n_letters = len(all_letters) + 1 # Plus EOS marker\n",
    "\n",
    "def findFiles(path): return glob.glob(path)\n",
    "\n",
    "# Turn a Unicode string to plain ASCII, thanks to https://stackoverflow.com/a/518232/2809427\n",
    "def unicodeToAscii(s):\n",
    "    return ''.join(\n",
    "        c for c in unicodedata.normalize('NFD', s)\n",
    "        if unicodedata.category(c) != 'Mn'\n",
    "        and c in all_letters\n",
    "    )\n",
    "\n",
    "# Read a file and split into lines\n",
    "def readLines(filename):\n",
    "    lines = open(filename, encoding='utf-8').read().strip().split('\\n')\n",
    "    return [unicodeToAscii(line) for line in lines]\n",
    "\n",
    "# Build the category_lines dictionary, a list of lines per category\n",
    "category_lines = {}\n",
    "all_categories = []\n",
    "for filename in findFiles('data/names/*.txt'):\n",
    "    category = os.path.splitext(os.path.basename(filename))[0]\n",
    "    all_categories.append(category)\n",
    "    lines = readLines(filename)\n",
    "    category_lines[category] = lines\n",
    "\n",
    "n_categories = len(all_categories)\n",
    "\n",
    "if n_categories == 0:\n",
    "    raise RuntimeError('Data not found. Make sure that you downloaded rnn_data.zip '\n",
    "        'from eTL and extract it to the current directory.')\n",
    "\n",
    "print('# categories:', n_categories, all_categories)\n",
    "print(unicodeToAscii(\"O'Néàl\"))"
   ]
  },
  {
   "cell_type": "markdown",
   "metadata": {
    "id": "9hFURVnRyUJO"
   },
   "source": [
    "Problem 1. Creating the Network\n",
    "====================\n",
    "\n",
    "**TODO 1**: Instead of using ``torch.nn.RNN``, build your own RNN network.\n",
    "\n",
    "RNN architecture in order:\n",
    "- ``i2h`` : a linear layer for the hidden\n",
    "- ``i2o`` : a linear layer for the output\n",
    "- ``o2o`` : a linear layer after combining hidden and output\n",
    "- ``dropout`` : randomly zeros parts of its\n",
    "input <https://arxiv.org/abs/1207.0580>`__ with a given probability\n",
    "(here 0.1) and is usually used to fuzz inputs to prevent overfitting.\n",
    "- ``softmax`` : LogSoftmax for the final output\n",
    "\n",
    "Category tensor is a one-hot vector just like the letter input and it is concatenated with the input and hidden. Output is interpreted as the probability of the next letter. When sampling, the most likely output letter is used as the next input letter.\n",
    "\n",
    "\n",
    "\n"
   ]
  },
  {
   "cell_type": "code",
   "execution_count": 2,
   "metadata": {
    "id": "d5iB_dJvyUJO"
   },
   "outputs": [],
   "source": [
    "import torch\n",
    "import torch.nn as nn\n",
    "\n",
    "class RNN(nn.Module):\n",
    "    def __init__(self, input_size, hidden_size, output_size):\n",
    "        super(RNN, self).__init__()\n",
    "        ##############################################################################\n",
    "        #                          IMPLEMENT YOUR CODE                               #\n",
    "        ##############################################################################\n",
    "        self.input_size = input_size\n",
    "        self.hidden_size = hidden_size\n",
    "        self.output_size = output_size\n",
    "        \n",
    "        self.i2h = nn.Linear(n_categories + input_size + hidden_size, hidden_size)\n",
    "        self.i2o = nn.Linear(n_categories + input_size + hidden_size, output_size)\n",
    "        self.o2o = nn.Linear(hidden_size + output_size, output_size)\n",
    "        self.softmax = nn.LogSoftmax()\n",
    "\n",
    "        ##############################################################################\n",
    "        #                          END OF YOUR CODE                                  #\n",
    "        ##############################################################################\n",
    "\n",
    "    def forward(self, category, input, hidden):\n",
    "        ##############################################################################\n",
    "        #                          IMPLEMENT YOUR CODE                               #\n",
    "        ##############################################################################\n",
    "        input_combined = torch.cat((category, input, hidden), 1)\n",
    "        hidden = self.i2h(input_combined)\n",
    "        output = self.i2o(input_combined)\n",
    "        output_concat = torch.cat((hidden, output), 1)\n",
    "        output = self.o2o(output_concat)\n",
    "        \n",
    "        ##############################################################################\n",
    "        #                          END OF YOUR CODE                                  #\n",
    "        ##############################################################################\n",
    "        return output, hidden\n",
    "\n",
    "    def initHidden(self):\n",
    "        return torch.zeros(1, self.hidden_size)"
   ]
  },
  {
   "cell_type": "markdown",
   "metadata": {
    "id": "eG_zviJQyUJP"
   },
   "source": [
    "Training\n",
    "=========\n",
    "Preparing for Training\n",
    "----------------------\n",
    "\n",
    "First of all, helper functions to get random pairs of (category, line):\n",
    "\n",
    "\n"
   ]
  },
  {
   "cell_type": "code",
   "execution_count": 3,
   "metadata": {
    "id": "bFkFsGqdyUJP"
   },
   "outputs": [],
   "source": [
    "import random\n",
    "\n",
    "# Random item from a list\n",
    "def randomChoice(l):\n",
    "    return l[random.randint(0, len(l) - 1)]\n",
    "\n",
    "# Get a random category and random line from that category\n",
    "def randomTrainingPair():\n",
    "    category = randomChoice(all_categories)\n",
    "    line = randomChoice(category_lines[category])\n",
    "    return category, line"
   ]
  },
  {
   "cell_type": "markdown",
   "metadata": {
    "id": "jeSqd029yUJQ"
   },
   "source": [
    "For each timestep (that is, for each letter in a training word) the\n",
    "inputs of the network will be\n",
    "``(category, current letter, hidden state)`` and the outputs will be\n",
    "``(next letter, next hidden state)``. So for each training set, we'll\n",
    "need the category, a set of input letters, and a set of output/target\n",
    "letters.\n",
    "\n",
    "Since we are predicting the next letter from the current letter for each\n",
    "timestep, the letter pairs are groups of consecutive letters from the\n",
    "line - e.g. for ``\"ABCD<EOS>\"`` we would create (\"A\", \"B\"), (\"B\", \"C\"),\n",
    "(\"C\", \"D\"), (\"D\", \"EOS\").\n",
    "\n",
    "The category tensor is a `one-hot\n",
    "tensor`__ of size\n",
    "``<1 x n_categories>``. When training we feed it to the network at every\n",
    "timestep - this is a design choice, it could have been included as part\n",
    "of initial hidden state or some other strategy.\n",
    "\n",
    "\n"
   ]
  },
  {
   "cell_type": "code",
   "execution_count": 4,
   "metadata": {
    "id": "UWd85nz5yUJQ"
   },
   "outputs": [],
   "source": [
    "# One-hot vector for category\n",
    "def categoryTensor(category):\n",
    "    li = all_categories.index(category)\n",
    "    tensor = torch.zeros(1, n_categories)\n",
    "    tensor[0][li] = 1\n",
    "    return tensor\n",
    "\n",
    "# One-hot matrix of first to last letters (not including EOS) for input\n",
    "def inputTensor(line):\n",
    "    tensor = torch.zeros(len(line), 1, n_letters)\n",
    "    for li in range(len(line)):\n",
    "        letter = line[li]\n",
    "        tensor[li][0][all_letters.find(letter)] = 1\n",
    "    return tensor\n",
    "\n",
    "# LongTensor of second letter to end (EOS) for target\n",
    "def targetTensor(line):\n",
    "    letter_indexes = [all_letters.find(line[li]) for li in range(1, len(line))]\n",
    "    letter_indexes.append(n_letters - 1) # EOS\n",
    "    return torch.LongTensor(letter_indexes)"
   ]
  },
  {
   "cell_type": "markdown",
   "metadata": {
    "id": "N-kSvhdYyUJQ"
   },
   "source": [
    "For convenience during training we'll make a ``randomTrainingExample``\n",
    "function that fetches a random (category, line) pair and turns them into\n",
    "the required (category, input, target) tensors.\n",
    "\n",
    "\n"
   ]
  },
  {
   "cell_type": "code",
   "execution_count": 5,
   "metadata": {
    "id": "zf11xJrByUJR"
   },
   "outputs": [],
   "source": [
    "# Make category, input, and target tensors from a random category, line pair\n",
    "def randomTrainingExample():\n",
    "    category, line = randomTrainingPair()\n",
    "    category_tensor = categoryTensor(category)\n",
    "    input_line_tensor = inputTensor(line)\n",
    "    target_line_tensor = targetTensor(line)\n",
    "    return category_tensor, input_line_tensor, target_line_tensor"
   ]
  },
  {
   "cell_type": "code",
   "execution_count": 6,
   "metadata": {
    "id": "GtX3mGeB1u_0"
   },
   "outputs": [],
   "source": [
    "category, line = randomTrainingPair()\n",
    "category_tensor = categoryTensor(category)\n",
    "input_line_tensor = inputTensor(line)\n",
    "target_line_tensor = targetTensor(line)"
   ]
  },
  {
   "cell_type": "code",
   "execution_count": 7,
   "metadata": {
    "id": "Nb52i4wU156Z"
   },
   "outputs": [
    {
     "data": {
      "text/plain": [
       "('Dutch', 'Maes')"
      ]
     },
     "execution_count": 7,
     "metadata": {},
     "output_type": "execute_result"
    }
   ],
   "source": [
    "category, line"
   ]
  },
  {
   "cell_type": "markdown",
   "metadata": {
    "id": "3iuDg6euyUJR"
   },
   "source": [
    "Problem 2. Training the Network\n",
    "--------------------\n",
    "\n",
    "In contrast to classification, where only the last output is used, we\n",
    "are making a prediction at every step, so we are calculating loss at\n",
    "every step.\n",
    "\n",
    "The magic of autograd allows you to simply sum these losses at each step\n",
    "and call backward at the end.\n",
    "\n",
    "**TODO 2**: Define a loss function, learning rate and hidden size for RNN training.\n",
    "\n",
    "\n"
   ]
  },
  {
   "cell_type": "code",
   "execution_count": 25,
   "metadata": {
    "id": "A08N0a3syUJR"
   },
   "outputs": [],
   "source": [
    "# Define a loss function, learning rate, hidden size\n",
    "##############################################################################\n",
    "#                          IMPLEMENT YOUR CODE                               #\n",
    "##############################################################################\n",
    "\n",
    "learning_rate = 0.0005\n",
    "n_hidden = 128\n",
    "optimizer = torch.optim.Adam(rnn.parameters(), lr=learning_rate)\n",
    "criterion = nn.CrossEntropyLoss()\n",
    "\n",
    "rnn = RNN(n_letters, n_hidden, n_letters)\n",
    "\n",
    "##############################################################################\n",
    "#                          END OF YOUR CODE                                  #\n",
    "##############################################################################\n",
    "\n",
    "def train(category_tensor, input_line_tensor, target_line_tensor):\n",
    "    target_line_tensor.unsqueeze_(-1)\n",
    "    hidden = rnn.initHidden()\n",
    "\n",
    "    rnn.zero_grad()\n",
    "\n",
    "    loss = 0\n",
    "\n",
    "    for i in range(input_line_tensor.size(0)):\n",
    "        output, hidden = rnn(category_tensor, input_line_tensor[i], hidden)\n",
    "        l = criterion(output, target_line_tensor[i])\n",
    "        loss += l\n",
    "\n",
    "    loss.backward()\n",
    "\n",
    "    for p in rnn.parameters():\n",
    "        p.data.add_(p.grad.data, alpha=-learning_rate)\n",
    "\n",
    "    return output, loss.item() / input_line_tensor.size(0)"
   ]
  },
  {
   "cell_type": "markdown",
   "metadata": {
    "id": "0vzqJELsyUJS"
   },
   "source": [
    "To keep track of how long training takes I am adding a\n",
    "``timeSince(timestamp)`` function which returns a human readable string:\n",
    "\n",
    "\n"
   ]
  },
  {
   "cell_type": "code",
   "execution_count": 16,
   "metadata": {
    "id": "DBc1XIUgyUJS"
   },
   "outputs": [],
   "source": [
    "import time\n",
    "import math\n",
    "\n",
    "def timeSince(since):\n",
    "    now = time.time()\n",
    "    s = now - since\n",
    "    m = math.floor(s / 60)\n",
    "    s -= m * 60\n",
    "    return '%dm %ds' % (m, s)"
   ]
  },
  {
   "cell_type": "markdown",
   "metadata": {
    "id": "k12OIBVqyUJS"
   },
   "source": [
    "Training is business as usual - call train a bunch of times and wait a\n",
    "few minutes, printing the current time and loss every ``print_every``\n",
    "examples, and keeping store of an average loss per ``plot_every`` examples\n",
    "in ``all_losses`` for plotting later.\n",
    "\n",
    "\n"
   ]
  },
  {
   "cell_type": "code",
   "execution_count": 17,
   "metadata": {
    "id": "I3g12ICHyUJT"
   },
   "outputs": [
    {
     "name": "stdout",
     "output_type": "stream",
     "text": [
      "0m 6s (5000 5%) 2.4502\n",
      "0m 13s (10000 10%) 2.5936\n",
      "0m 19s (15000 15%) 2.0203\n",
      "0m 26s (20000 20%) 1.8849\n",
      "0m 32s (25000 25%) 2.3129\n",
      "0m 39s (30000 30%) 2.9481\n",
      "0m 46s (35000 35%) 3.0483\n",
      "0m 52s (40000 40%) 2.6644\n",
      "0m 58s (45000 45%) 2.0645\n",
      "1m 5s (50000 50%) 2.3832\n",
      "1m 11s (55000 55%) 2.6286\n",
      "1m 17s (60000 60%) 1.8435\n",
      "1m 23s (65000 65%) 1.3536\n",
      "1m 30s (70000 70%) 2.0662\n",
      "1m 36s (75000 75%) 2.7435\n",
      "1m 42s (80000 80%) 2.2908\n",
      "1m 48s (85000 85%) 2.0660\n",
      "1m 55s (90000 90%) 2.4593\n",
      "2m 1s (95000 95%) 2.1312\n",
      "2m 7s (100000 100%) 2.4394\n"
     ]
    }
   ],
   "source": [
    "rnn = RNN(n_letters, n_hidden, n_letters)\n",
    "\n",
    "n_iters = 100000\n",
    "print_every = 5000\n",
    "plot_every = 500\n",
    "all_losses = []\n",
    "total_loss = 0 # Reset every plot_every iters\n",
    "\n",
    "start = time.time()\n",
    "\n",
    "for iter in range(1, n_iters + 1):\n",
    "    output, loss = train(*randomTrainingExample())\n",
    "    total_loss += loss\n",
    "\n",
    "    if iter % print_every == 0:\n",
    "        print('%s (%d %d%%) %.4f' % (timeSince(start), iter, iter / n_iters * 100, loss))\n",
    "\n",
    "    if iter % plot_every == 0:\n",
    "        all_losses.append(total_loss / plot_every)\n",
    "        total_loss = 0\n",
    "torch.save(rnn.state_dict(), 'RNN.pth')"
   ]
  },
  {
   "cell_type": "markdown",
   "metadata": {
    "id": "2Rf_bwthyUJT"
   },
   "source": [
    "Plotting the Losses\n",
    "-------------------\n",
    "\n",
    "Plotting the historical loss from all\\_losses shows the network\n",
    "learning:\n",
    "\n",
    "\n"
   ]
  },
  {
   "cell_type": "code",
   "execution_count": 18,
   "metadata": {
    "id": "lN2PkUXzyUJT"
   },
   "outputs": [
    {
     "data": {
      "text/plain": [
       "[<matplotlib.lines.Line2D at 0x7ff70d210190>]"
      ]
     },
     "execution_count": 18,
     "metadata": {},
     "output_type": "execute_result"
    },
    {
     "data": {
      "image/png": "[encoded data removed]",
      "text/plain": [
       "<Figure size 640x480 with 1 Axes>"
      ]
     },
     "metadata": {},
     "output_type": "display_data"
    }
   ],
   "source": [
    "import matplotlib.pyplot as plt\n",
    "import matplotlib.ticker as ticker\n",
    "\n",
    "plt.figure()\n",
    "plt.plot(all_losses)"
   ]
  },
  {
   "cell_type": "markdown",
   "metadata": {
    "id": "ocldE9xuyUJT"
   },
   "source": [
    "Problem 3. Sampling from the Network\n",
    "====================\n",
    "\n",
    "**TODO 3**: To sample we give the network a letter and ask what the next one is,\n",
    "feed that in as the next letter, and repeat until the EOS token.\n",
    "\n",
    "-  Create tensors for input category, starting letter, and empty hidden\n",
    "   state\n",
    "-  Create a string ``output_name`` with the starting letter\n",
    "-  Up to a maximum output length,\n",
    "\n",
    "   -  Feed the current letter to the network\n",
    "   -  Get the next letter from highest output, and next hidden state\n",
    "   -  If the letter is EOS, stop here\n",
    "   -  If a regular letter, add to ``output_name`` and continue\n",
    "\n",
    "-  Return the final name\n",
    "\n",
    ".. Note::\n",
    "   Rather than having to give it a starting letter, another\n",
    "   strategy would have been to include a \"start of string\" token in\n",
    "   training and have the network choose its own starting letter.\n",
    "\n",
    "\n"
   ]
  },
  {
   "cell_type": "code",
   "execution_count": 23,
   "metadata": {
    "id": "rcV_uJWjyUJU"
   },
   "outputs": [],
   "source": [
    "max_length = 20\n",
    "\n",
    "# Sample from a category and starting letter\n",
    "def sample(category, start_letter='A'):\n",
    "    ##############################################################################\n",
    "    #                          IMPLEMENT YOUR CODE                               #\n",
    "    ##############################################################################\n",
    "    with torch.no_grad():  # no need to track history in sampling\n",
    "        category_tensor = categoryTensor(category)  # Convert category to tensor\n",
    "        input_tensor = inputTensor(start_letter)  # Convert start letter to tensor\n",
    "        hidden_state = rnn.initHidden()  # Initialize the hidden state\n",
    "\n",
    "        output_name = start_letter  # Start the output name with the initial letter\n",
    "\n",
    "        for _ in range(max_length):\n",
    "            output, hidden_state = rnn(category_tensor, input_tensor[0], hidden_state)  # Forward pass\n",
    "            top_value, top_index = output.topk(1)  # Get the top value and index\n",
    "            top_index = top_index.item()  # Convert tensor to scalar\n",
    "\n",
    "            if top_index == n_letters - 1:  # If the EOS token is reached, stop generation\n",
    "                break\n",
    "            else:\n",
    "                predicted_letter = all_letters[top_index]  # Get the corresponding letter\n",
    "                output_name += predicted_letter  # Append the letter to the output name\n",
    "\n",
    "            input_tensor = inputTensor(predicted_letter)  # Update the input tensor for the next iteration\n",
    "    \n",
    "    \n",
    "    ##############################################################################\n",
    "    #                          END OF YOUR CODE                                  #\n",
    "    ##############################################################################\n",
    "        return output_name\n",
    "\n",
    "# Get multiple samples from one category and multiple starting letters\n",
    "def samples(category, start_letters='ABC'):\n",
    "    for start_letter in start_letters:\n",
    "        print(sample(category, start_letter))"
   ]
  },
  {
   "cell_type": "markdown",
   "metadata": {
    "id": "IZlvPetDeOEv"
   },
   "source": [
    "**TODO 4**: Sample 12 different names from 4 languages (i.e. 3 names per language). Use the ``samples`` function defined above."
   ]
  },
  {
   "cell_type": "code",
   "execution_count": 24,
   "metadata": {
    "id": "GkBGxJ7-eMIs"
   },
   "outputs": [
    {
     "name": "stdout",
     "output_type": "stream",
     "text": [
      "Allan\n",
      "Barin\n",
      "Chanton\n",
      "Dernen\n",
      "Ering\n",
      "Ferren\n",
      "Garan\n",
      "Haran\n",
      "Ianer\n",
      "Jon\n",
      "Kon\n",
      "Lon\n"
     ]
    }
   ],
   "source": [
    "##############################################################################\n",
    "#                          IMPLEMENT YOUR CODE                               #\n",
    "##############################################################################\n",
    "samples('Russian', 'ABC')\n",
    "samples('German', 'DEF')\n",
    "samples('Spanish', 'GHI')\n",
    "samples('Korean', 'JKL')\n",
    "\n",
    "##############################################################################\n",
    "#                          END OF YOUR CODE                                  #\n",
    "##############################################################################"
   ]
  },
  {
   "cell_type": "markdown",
   "metadata": {
    "id": "ET-ZRw41mcu6"
   },
   "source": [
    "Problem 4. Comparing HMM and RNN\n",
    "====================\n",
    "So far, we have conducted practical exercises on HMM and RNN. Here, we will compare the similarities and differences between the two models and additionally try using Chat-GPT, which has recently emerged as a powerful tool."
   ]
  },
  {
   "cell_type": "markdown",
   "metadata": {
    "id": "xuQyf5b0mdqo"
   },
   "source": [
    "**TODO 5**: \n",
    "Please describe two or more commonalities and differences between HMM and RNN\n",
    "\n",
    "<br>\n",
    "write your answer here."
   ]
  },
  {
   "cell_type": "markdown",
   "metadata": {},
   "source": [
    "Commonalities Between HMM and RNN\n",
    "1. Sequential Data Processing:\n",
    "Both HMMs and RNNs are adept at managing sequential data. HMMs approach this by modeling the probabilistic dependencies between sequential states, operating under the assumption that the system follows a Markov process with hidden states. On the other hand, RNNs utilize their recurrent structure to handle sequences, maintaining information about previous elements to capture dependencies over time.\n",
    "\n",
    "2. State Representation:\n",
    "In both models, the concept of state is central. HMMs have hidden states that probabilistically emit observations, with transitions governed by state transition probabilities. Similarly, RNNs maintain hidden states, updated recurrently based on the current input and the previous hidden state, but in a deterministic manner rather than a probabilistic one.\n",
    "\n",
    "Differences Between HMM and RNN\n",
    "1. Nature of the Models:\n",
    "HMMs are fundamentally probabilistic models. They define explicit probability distributions for state transitions and observations, involving a clear mathematical formulation with states, transition probabilities, and emission probabilities. Conversely, RNNs are deterministic neural networks. Their state transitions and outputs are determined by learned parameters (weights), and they rely on backpropagation through time (BPTT) for training.\n",
    "\n",
    "2. Hidden Markov Models (HMMs) are more straightforward compared to Recurrent Neural Networks (RNNs) and are built on strong assumptions that might not always hold true. If these assumptions are valid, HMMs can often perform better because they are less complex and easier to implement effectively. On the other hand, RNNs can yield superior performance with very large datasets due to their added complexity, which allows them to leverage the vast amount of information more effectively. This advantage holds even if HMMs’ assumptions are applicable in your situation.\n"
   ]
  },
  {
   "cell_type": "markdown",
   "metadata": {
    "id": "YK7wVhx9mf2R"
   },
   "source": [
    "Now we are going to use Chat-GPT to answer the following questions. There are two main ways to use Chat-GPT. The first is to use the web version. You can easily use version 3.5 by signing up at https://chat.openai.com/. The second is to use the OpenAI API. If you sign up for the paid version or if you are a new user, you will be provided with a certain amount of credits, so interested students can give it a try. Detailed information about the API version can be found at https://platform.openai.com/docs/guides/chat."
   ]
  },
  {
   "cell_type": "markdown",
   "metadata": {
    "id": "TttTvST5mitn"
   },
   "source": [
    "**TODO 6**: \n",
    "\n",
    "Let's use Chat-GPT to answer the following questions. \n",
    "- Provide two or more commonalities and differences between HMM and RNN\n",
    "- Explain the event in which HMM performed better than RNN in stock market prediction right before Korea's IMF\n",
    "\n",
    "Report the generated answer and write your satisfaction with answers.\n",
    "\n",
    "<br>\n",
    "write your answer here.\n",
    "\n"
   ]
  },
  {
   "cell_type": "markdown",
   "metadata": {},
   "source": [
    "## Commonalities Between HMM and RNN\n",
    "1. Sequential Data Handling:\n",
    "    - HMM (Hidden Markov Model): HMMs are designed to model sequential data by capturing the probabilistic dependencies between states in a sequence. They assume that the system being modeled is a Markov process with hidden states.\n",
    "    - RNN (Recurrent Neural Network): RNNs are also used to process sequential data, leveraging their recurrent structure to maintain information about previous elements in the sequence, allowing them to capture dependencies over time.\n",
    "\n",
    "2. State Representation:\n",
    "    - HMM: In HMMs, the sequence of states is hidden, and each state emits an observation according to a certain probability distribution. The model involves transitions between hidden states and the emission of observations from these states.\n",
    "    - RNN: In RNNs, the hidden state at each time step is a deterministic function of the previous hidden state and the current input. The hidden state is updated recurrently as new inputs are processed.\n",
    "\n",
    "## Differences Between HMM and RNN\n",
    "1. Model Type:\n",
    "\n",
    "    - HMM: HMMs are probabilistic models that use explicit probability distributions for state transitions and observations. They are defined by a set of states, transition probabilities, and emission probabilities.\n",
    "    - RNN: RNNs are deterministic neural network models that use learned parameters (weights) to determine the state transitions and outputs. They rely on backpropagation through time (BPTT) for training.\n",
    "2. Learning Mechanism:\n",
    "\n",
    "    - HMM: The parameters of HMMs (transition probabilities, emission probabilities) are typically learned using algorithms like the Expectation-Maximization (EM) algorithm, particularly the Baum-Welch algorithm.\n",
    "    - RNN: RNNs are trained using gradient-based optimization techniques. The gradients are computed via backpropagation through time (BPTT), which involves unfolding the network through time and applying backpropagation.\n",
    "3. Expressiveness:\n",
    "\n",
    "    - HMM: HMMs have a limited capacity to model complex dependencies due to their reliance on a fixed number of hidden states and predefined probability distributions. They are well-suited for simpler, more interpretable models.\n",
    "    - RNN: RNNs, particularly when extended with architectures like LSTM (Long Short-Term Memory) or GRU (Gated Recurrent Unit), are more powerful and capable of modeling long-range dependencies and complex patterns in data. They can learn from large datasets and capture intricate temporal dynamics.\n",
    "4. Interpretability:\n",
    "\n",
    "    - HMM: HMMs are more interpretable due to their explicit probabilistic nature. The transition and emission probabilities provide clear insights into the model's behavior and the relationships between states and observations.\n",
    "    - RNN: RNNs, while powerful, are often considered \"black-box\" models. The learned weights and activations within the network do not provide straightforward interpretability regarding how the model makes predictions.\n",
    "In summary, both HMMs and RNNs are used to model sequential data, but they differ significantly in their underlying principles, learning mechanisms, expressiveness, and interpretability. HMMs are probabilistic and interpretable but limited in complexity, while RNNs are deterministic, powerful, and capable of learning complex patterns, albeit less interpretable."
   ]
  },
  {
   "cell_type": "markdown",
   "metadata": {},
   "source": [
    "## the event in which HMM performed better than RNN in stock market prediction right before Korea's IMF\n",
    "In the context of stock market prediction, there was a notable instance where Hidden Markov Models (HMMs) outperformed Recurrent Neural Networks (RNNs) leading up to the Asian Financial Crisis, commonly referred to as the IMF crisis, which affected South Korea in 1997. Here’s an exploration of why HMMs might have performed better in this specific scenario:\n",
    "\n",
    "Context and Background\n",
    "Before delving into the details, it's essential to understand the economic environment of South Korea right before the IMF crisis. The South Korean stock market was experiencing significant volatility due to political instability, economic imbalances, and speculative investments. The market conditions were highly uncertain, making prediction models particularly challenging to apply.\n",
    "\n",
    "Why HMMs Outperformed RNNs\n",
    "1. Simplicity and Strong Assumptions:\n",
    "HMMs rely on the assumption that the market can be modeled with a set of discrete hidden states (e.g., bull market, bear market, and stable market). Each state has certain probabilities of transitioning to another state and generating observed data (e.g., stock prices). In a highly volatile and relatively short-term period leading up to the crisis, these assumptions can sometimes capture the regime shifts more effectively than the more flexible but complex RNNs.\n",
    "\n",
    "2. Limited Data and Overfitting:\n",
    "RNNs require large amounts of data to learn effectively and can easily overfit when data is sparse or highly noisy, which was the case before the IMF crisis. HMMs, being simpler models, are less prone to overfitting and can generalize better in situations with limited or noisy data.\n",
    "\n",
    "3. Clear Regime Shifts:\n",
    "The period leading up to the crisis involved clear regime shifts due to economic policies, foreign exchange pressures, and political events. HMMs are particularly good at detecting and modeling such regime shifts, as they are explicitly designed to work with sequences where the underlying state changes over time. RNNs, while powerful, might struggle to identify these shifts without extensive tuning and large datasets.\n",
    "\n",
    "4. Interpretability:\n",
    "HMMs provide a clearer interpretability of market states and transitions, which can be crucial during periods of economic uncertainty. Investors and analysts can better understand the probabilities of different market regimes and make more informed decisions based on the model’s output. RNNs, although capable of capturing complex patterns, act more like a black box, making it harder to interpret the results during such critical times.\n",
    "\n",
    "Specific Event Example\n",
    "Right before the IMF crisis, South Korea’s stock market exhibited significant fluctuations due to the rapid outflow of foreign capital and the devaluation of the Korean won. An HMM could identify and model the transitions between different market states (e.g., high volatility to crash) more effectively by observing patterns and making probabilistic predictions about the next state. This clear demarcation of states provided better predictive performance compared to RNNs, which may not have had enough data to train effectively and could have been misled by the noise and rapid changes in the market.\n",
    "\n",
    "In conclusion, HMMs outperformed RNNs in predicting the South Korean stock market right before the IMF crisis due to their ability to handle regime shifts, simplicity in modeling with limited data, resistance to overfitting, and interpretability during volatile periods. These characteristics made HMMs more suitable for the specific conditions of the market leading up to the crisis.\n",
    "\n",
    "\n",
    "\n",
    "\n",
    "\n",
    "\n",
    "\n",
    "\n"
   ]
  },
  {
   "cell_type": "code",
   "execution_count": null,
   "metadata": {},
   "outputs": [],
   "source": []
  }
 ],
 "metadata": {
  "accelerator": "GPU",
  "colab": {
   "provenance": []
  },
  "kernelspec": {
   "display_name": "Python 3 (ipykernel)",
   "language": "python",
   "name": "python3"
  },
  "language_info": {
   "codemirror_mode": {
    "name": "ipython",
    "version": 3
   },
   "file_extension": ".py",
   "mimetype": "text/x-python",
   "name": "python",
   "nbconvert_exporter": "python",
   "pygments_lexer": "ipython3",
   "version": "3.11.4"
  }
 },
 "nbformat": 4,
 "nbformat_minor": 1
}
